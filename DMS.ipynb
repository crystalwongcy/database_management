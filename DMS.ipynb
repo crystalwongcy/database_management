{
 "cells": [
  {
   "cell_type": "code",
   "execution_count": 28,
   "id": "c3372b34",
   "metadata": {
    "ExecuteTime": {
     "end_time": "2022-07-07T12:47:55.708708Z",
     "start_time": "2022-07-07T12:47:53.317764Z"
    }
   },
   "outputs": [
    {
     "name": "stdout",
     "output_type": "stream",
     "text": [
      "Requirement already satisfied: numpy in /opt/anaconda3/envs/dms_spark/lib/python3.8/site-packages (from -r requirements.txt (line 1)) (1.23.1)\n",
      "Requirement already satisfied: pandas in /opt/anaconda3/envs/dms_spark/lib/python3.8/site-packages (from -r requirements.txt (line 2)) (1.4.3)\n",
      "Requirement already satisfied: jupyter in /opt/anaconda3/envs/dms_spark/lib/python3.8/site-packages (from -r requirements.txt (line 3)) (1.0.0)\n",
      "Requirement already satisfied: psycopg2-binary in /opt/anaconda3/envs/dms_spark/lib/python3.8/site-packages (from -r requirements.txt (line 4)) (2.9.3)\n",
      "Requirement already satisfied: pymongo in /opt/anaconda3/envs/dms_spark/lib/python3.8/site-packages (from -r requirements.txt (line 5)) (4.2.0)\n",
      "Requirement already satisfied: beautifulsoup4 in /opt/anaconda3/envs/dms_spark/lib/python3.8/site-packages (from -r requirements.txt (line 6)) (4.11.1)\n",
      "Requirement already satisfied: requests in /opt/anaconda3/envs/dms_spark/lib/python3.8/site-packages (from -r requirements.txt (line 7)) (2.28.1)\n",
      "Requirement already satisfied: pyspark==3.0.1 in /opt/anaconda3/envs/dms_spark/lib/python3.8/site-packages (from -r requirements.txt (line 8)) (3.0.1)\n",
      "Requirement already satisfied: matplotlib in /opt/anaconda3/envs/dms_spark/lib/python3.8/site-packages (from -r requirements.txt (line 9)) (3.5.2)\n",
      "Requirement already satisfied: py4j==0.10.9 in /opt/anaconda3/envs/dms_spark/lib/python3.8/site-packages (from pyspark==3.0.1->-r requirements.txt (line 8)) (0.10.9)\n",
      "Requirement already satisfied: pytz>=2020.1 in /opt/anaconda3/envs/dms_spark/lib/python3.8/site-packages (from pandas->-r requirements.txt (line 2)) (2022.1)\n",
      "Requirement already satisfied: python-dateutil>=2.8.1 in /opt/anaconda3/envs/dms_spark/lib/python3.8/site-packages (from pandas->-r requirements.txt (line 2)) (2.8.2)\n",
      "Requirement already satisfied: qtconsole in /opt/anaconda3/envs/dms_spark/lib/python3.8/site-packages (from jupyter->-r requirements.txt (line 3)) (5.3.1)\n",
      "Requirement already satisfied: nbconvert in /opt/anaconda3/envs/dms_spark/lib/python3.8/site-packages (from jupyter->-r requirements.txt (line 3)) (6.5.0)\n",
      "Requirement already satisfied: ipykernel in /opt/anaconda3/envs/dms_spark/lib/python3.8/site-packages (from jupyter->-r requirements.txt (line 3)) (6.9.1)\n",
      "Requirement already satisfied: ipywidgets in /opt/anaconda3/envs/dms_spark/lib/python3.8/site-packages (from jupyter->-r requirements.txt (line 3)) (7.7.1)\n",
      "Requirement already satisfied: jupyter-console in /opt/anaconda3/envs/dms_spark/lib/python3.8/site-packages (from jupyter->-r requirements.txt (line 3)) (6.4.4)\n",
      "Requirement already satisfied: notebook in /opt/anaconda3/envs/dms_spark/lib/python3.8/site-packages (from jupyter->-r requirements.txt (line 3)) (6.4.12)\n",
      "Requirement already satisfied: soupsieve>1.2 in /opt/anaconda3/envs/dms_spark/lib/python3.8/site-packages (from beautifulsoup4->-r requirements.txt (line 6)) (2.3.2.post1)\n",
      "Requirement already satisfied: urllib3<1.27,>=1.21.1 in /opt/anaconda3/envs/dms_spark/lib/python3.8/site-packages (from requests->-r requirements.txt (line 7)) (1.26.10)\n",
      "Requirement already satisfied: charset-normalizer<3,>=2 in /opt/anaconda3/envs/dms_spark/lib/python3.8/site-packages (from requests->-r requirements.txt (line 7)) (2.1.0)\n",
      "Requirement already satisfied: certifi>=2017.4.17 in /opt/anaconda3/envs/dms_spark/lib/python3.8/site-packages (from requests->-r requirements.txt (line 7)) (2022.6.15)\n",
      "Requirement already satisfied: idna<4,>=2.5 in /opt/anaconda3/envs/dms_spark/lib/python3.8/site-packages (from requests->-r requirements.txt (line 7)) (3.3)\n",
      "Requirement already satisfied: packaging>=20.0 in /opt/anaconda3/envs/dms_spark/lib/python3.8/site-packages (from matplotlib->-r requirements.txt (line 9)) (21.3)\n",
      "Requirement already satisfied: fonttools>=4.22.0 in /opt/anaconda3/envs/dms_spark/lib/python3.8/site-packages (from matplotlib->-r requirements.txt (line 9)) (4.34.4)\n",
      "Requirement already satisfied: cycler>=0.10 in /opt/anaconda3/envs/dms_spark/lib/python3.8/site-packages (from matplotlib->-r requirements.txt (line 9)) (0.11.0)\n",
      "Requirement already satisfied: pyparsing>=2.2.1 in /opt/anaconda3/envs/dms_spark/lib/python3.8/site-packages (from matplotlib->-r requirements.txt (line 9)) (3.0.9)\n",
      "Requirement already satisfied: kiwisolver>=1.0.1 in /opt/anaconda3/envs/dms_spark/lib/python3.8/site-packages (from matplotlib->-r requirements.txt (line 9)) (1.4.4)\n",
      "Requirement already satisfied: pillow>=6.2.0 in /opt/anaconda3/envs/dms_spark/lib/python3.8/site-packages (from matplotlib->-r requirements.txt (line 9)) (9.2.0)\n",
      "Requirement already satisfied: six>=1.5 in /opt/anaconda3/envs/dms_spark/lib/python3.8/site-packages (from python-dateutil>=2.8.1->pandas->-r requirements.txt (line 2)) (1.16.0)\n",
      "Requirement already satisfied: nest-asyncio in /opt/anaconda3/envs/dms_spark/lib/python3.8/site-packages (from ipykernel->jupyter->-r requirements.txt (line 3)) (1.5.5)\n",
      "Requirement already satisfied: debugpy<2.0,>=1.0.0 in /opt/anaconda3/envs/dms_spark/lib/python3.8/site-packages (from ipykernel->jupyter->-r requirements.txt (line 3)) (1.5.1)\n",
      "Requirement already satisfied: ipython>=7.23.1 in /opt/anaconda3/envs/dms_spark/lib/python3.8/site-packages (from ipykernel->jupyter->-r requirements.txt (line 3)) (8.4.0)\n",
      "Requirement already satisfied: matplotlib-inline<0.2.0,>=0.1.0 in /opt/anaconda3/envs/dms_spark/lib/python3.8/site-packages (from ipykernel->jupyter->-r requirements.txt (line 3)) (0.1.2)\n",
      "Requirement already satisfied: jupyter-client<8.0 in /opt/anaconda3/envs/dms_spark/lib/python3.8/site-packages (from ipykernel->jupyter->-r requirements.txt (line 3)) (7.2.2)\n",
      "Requirement already satisfied: tornado<7.0,>=4.2 in /opt/anaconda3/envs/dms_spark/lib/python3.8/site-packages (from ipykernel->jupyter->-r requirements.txt (line 3)) (6.1)\n",
      "Requirement already satisfied: appnope in /opt/anaconda3/envs/dms_spark/lib/python3.8/site-packages (from ipykernel->jupyter->-r requirements.txt (line 3)) (0.1.2)\n",
      "Requirement already satisfied: traitlets<6.0,>=5.1.0 in /opt/anaconda3/envs/dms_spark/lib/python3.8/site-packages (from ipykernel->jupyter->-r requirements.txt (line 3)) (5.3.0)\n",
      "Requirement already satisfied: ipython-genutils~=0.2.0 in /opt/anaconda3/envs/dms_spark/lib/python3.8/site-packages (from ipywidgets->jupyter->-r requirements.txt (line 3)) (0.2.0)\n",
      "Requirement already satisfied: widgetsnbextension~=3.6.0 in /opt/anaconda3/envs/dms_spark/lib/python3.8/site-packages (from ipywidgets->jupyter->-r requirements.txt (line 3)) (3.6.1)\n",
      "Requirement already satisfied: jupyterlab-widgets>=1.0.0 in /opt/anaconda3/envs/dms_spark/lib/python3.8/site-packages (from ipywidgets->jupyter->-r requirements.txt (line 3)) (1.1.1)\n",
      "Requirement already satisfied: prompt-toolkit!=3.0.0,!=3.0.1,<3.1.0,>=2.0.0 in /opt/anaconda3/envs/dms_spark/lib/python3.8/site-packages (from jupyter-console->jupyter->-r requirements.txt (line 3)) (3.0.20)\n",
      "Requirement already satisfied: pygments in /opt/anaconda3/envs/dms_spark/lib/python3.8/site-packages (from jupyter-console->jupyter->-r requirements.txt (line 3)) (2.11.2)\n",
      "Requirement already satisfied: jinja2>=3.0 in /opt/anaconda3/envs/dms_spark/lib/python3.8/site-packages (from nbconvert->jupyter->-r requirements.txt (line 3)) (3.1.2)\n",
      "Requirement already satisfied: jupyter-core>=4.7 in /opt/anaconda3/envs/dms_spark/lib/python3.8/site-packages (from nbconvert->jupyter->-r requirements.txt (line 3)) (4.10.0)\n",
      "Requirement already satisfied: tinycss2 in /opt/anaconda3/envs/dms_spark/lib/python3.8/site-packages (from nbconvert->jupyter->-r requirements.txt (line 3)) (1.1.1)\n",
      "Requirement already satisfied: pandocfilters>=1.4.1 in /opt/anaconda3/envs/dms_spark/lib/python3.8/site-packages (from nbconvert->jupyter->-r requirements.txt (line 3)) (1.5.0)\n",
      "Requirement already satisfied: bleach in /opt/anaconda3/envs/dms_spark/lib/python3.8/site-packages (from nbconvert->jupyter->-r requirements.txt (line 3)) (5.0.1)\n",
      "Requirement already satisfied: defusedxml in /opt/anaconda3/envs/dms_spark/lib/python3.8/site-packages (from nbconvert->jupyter->-r requirements.txt (line 3)) (0.7.1)\n",
      "Requirement already satisfied: nbclient>=0.5.0 in /opt/anaconda3/envs/dms_spark/lib/python3.8/site-packages (from nbconvert->jupyter->-r requirements.txt (line 3)) (0.6.6)\n",
      "Requirement already satisfied: jupyterlab-pygments in /opt/anaconda3/envs/dms_spark/lib/python3.8/site-packages (from nbconvert->jupyter->-r requirements.txt (line 3)) (0.2.2)\n",
      "Requirement already satisfied: nbformat>=5.1 in /opt/anaconda3/envs/dms_spark/lib/python3.8/site-packages (from nbconvert->jupyter->-r requirements.txt (line 3)) (5.4.0)\n",
      "Requirement already satisfied: MarkupSafe>=2.0 in /opt/anaconda3/envs/dms_spark/lib/python3.8/site-packages (from nbconvert->jupyter->-r requirements.txt (line 3)) (2.1.1)\n",
      "Requirement already satisfied: entrypoints>=0.2.2 in /opt/anaconda3/envs/dms_spark/lib/python3.8/site-packages (from nbconvert->jupyter->-r requirements.txt (line 3)) (0.4)\n",
      "Requirement already satisfied: mistune<2,>=0.8.1 in /opt/anaconda3/envs/dms_spark/lib/python3.8/site-packages (from nbconvert->jupyter->-r requirements.txt (line 3)) (0.8.4)\n",
      "Requirement already satisfied: Send2Trash>=1.8.0 in /opt/anaconda3/envs/dms_spark/lib/python3.8/site-packages (from notebook->jupyter->-r requirements.txt (line 3)) (1.8.0)\n",
      "Requirement already satisfied: argon2-cffi in /opt/anaconda3/envs/dms_spark/lib/python3.8/site-packages (from notebook->jupyter->-r requirements.txt (line 3)) (21.3.0)\n",
      "Requirement already satisfied: terminado>=0.8.3 in /opt/anaconda3/envs/dms_spark/lib/python3.8/site-packages (from notebook->jupyter->-r requirements.txt (line 3)) (0.15.0)\n",
      "Requirement already satisfied: pyzmq>=17 in /opt/anaconda3/envs/dms_spark/lib/python3.8/site-packages (from notebook->jupyter->-r requirements.txt (line 3)) (23.2.0)\n",
      "Requirement already satisfied: prometheus-client in /opt/anaconda3/envs/dms_spark/lib/python3.8/site-packages (from notebook->jupyter->-r requirements.txt (line 3)) (0.14.1)\n",
      "Requirement already satisfied: qtpy>=2.0.1 in /opt/anaconda3/envs/dms_spark/lib/python3.8/site-packages (from qtconsole->jupyter->-r requirements.txt (line 3)) (2.1.0)\n",
      "Requirement already satisfied: pexpect>4.3 in /opt/anaconda3/envs/dms_spark/lib/python3.8/site-packages (from ipython>=7.23.1->ipykernel->jupyter->-r requirements.txt (line 3)) (4.8.0)\n",
      "Requirement already satisfied: jedi>=0.16 in /opt/anaconda3/envs/dms_spark/lib/python3.8/site-packages (from ipython>=7.23.1->ipykernel->jupyter->-r requirements.txt (line 3)) (0.18.1)\n",
      "Requirement already satisfied: setuptools>=18.5 in /opt/anaconda3/envs/dms_spark/lib/python3.8/site-packages (from ipython>=7.23.1->ipykernel->jupyter->-r requirements.txt (line 3)) (61.2.0)\n",
      "Requirement already satisfied: stack-data in /opt/anaconda3/envs/dms_spark/lib/python3.8/site-packages (from ipython>=7.23.1->ipykernel->jupyter->-r requirements.txt (line 3)) (0.2.0)\n",
      "Requirement already satisfied: decorator in /opt/anaconda3/envs/dms_spark/lib/python3.8/site-packages (from ipython>=7.23.1->ipykernel->jupyter->-r requirements.txt (line 3)) (5.1.1)\n",
      "Requirement already satisfied: backcall in /opt/anaconda3/envs/dms_spark/lib/python3.8/site-packages (from ipython>=7.23.1->ipykernel->jupyter->-r requirements.txt (line 3)) (0.2.0)\n",
      "Requirement already satisfied: pickleshare in /opt/anaconda3/envs/dms_spark/lib/python3.8/site-packages (from ipython>=7.23.1->ipykernel->jupyter->-r requirements.txt (line 3)) (0.7.5)\n",
      "Requirement already satisfied: fastjsonschema in /opt/anaconda3/envs/dms_spark/lib/python3.8/site-packages (from nbformat>=5.1->nbconvert->jupyter->-r requirements.txt (line 3)) (2.16.1)\n",
      "Requirement already satisfied: jsonschema>=2.6 in /opt/anaconda3/envs/dms_spark/lib/python3.8/site-packages (from nbformat>=5.1->nbconvert->jupyter->-r requirements.txt (line 3)) (4.7.2)\n",
      "Requirement already satisfied: wcwidth in /opt/anaconda3/envs/dms_spark/lib/python3.8/site-packages (from prompt-toolkit!=3.0.0,!=3.0.1,<3.1.0,>=2.0.0->jupyter-console->jupyter->-r requirements.txt (line 3)) (0.2.5)\n",
      "Requirement already satisfied: ptyprocess in /opt/anaconda3/envs/dms_spark/lib/python3.8/site-packages (from terminado>=0.8.3->notebook->jupyter->-r requirements.txt (line 3)) (0.7.0)\n",
      "Requirement already satisfied: argon2-cffi-bindings in /opt/anaconda3/envs/dms_spark/lib/python3.8/site-packages (from argon2-cffi->notebook->jupyter->-r requirements.txt (line 3)) (21.2.0)\n",
      "Requirement already satisfied: webencodings in /opt/anaconda3/envs/dms_spark/lib/python3.8/site-packages (from bleach->nbconvert->jupyter->-r requirements.txt (line 3)) (0.5.1)\n",
      "Requirement already satisfied: parso<0.9.0,>=0.8.0 in /opt/anaconda3/envs/dms_spark/lib/python3.8/site-packages (from jedi>=0.16->ipython>=7.23.1->ipykernel->jupyter->-r requirements.txt (line 3)) (0.8.3)\n",
      "Requirement already satisfied: importlib-resources>=1.4.0 in /opt/anaconda3/envs/dms_spark/lib/python3.8/site-packages (from jsonschema>=2.6->nbformat>=5.1->nbconvert->jupyter->-r requirements.txt (line 3)) (5.8.0)\n",
      "Requirement already satisfied: attrs>=17.4.0 in /opt/anaconda3/envs/dms_spark/lib/python3.8/site-packages (from jsonschema>=2.6->nbformat>=5.1->nbconvert->jupyter->-r requirements.txt (line 3)) (21.4.0)\n",
      "Requirement already satisfied: pyrsistent!=0.17.0,!=0.17.1,!=0.17.2,>=0.14.0 in /opt/anaconda3/envs/dms_spark/lib/python3.8/site-packages (from jsonschema>=2.6->nbformat>=5.1->nbconvert->jupyter->-r requirements.txt (line 3)) (0.18.1)\n",
      "Requirement already satisfied: cffi>=1.0.1 in /opt/anaconda3/envs/dms_spark/lib/python3.8/site-packages (from argon2-cffi-bindings->argon2-cffi->notebook->jupyter->-r requirements.txt (line 3)) (1.15.1)\n",
      "Requirement already satisfied: executing in /opt/anaconda3/envs/dms_spark/lib/python3.8/site-packages (from stack-data->ipython>=7.23.1->ipykernel->jupyter->-r requirements.txt (line 3)) (0.8.3)\n",
      "Requirement already satisfied: pure-eval in /opt/anaconda3/envs/dms_spark/lib/python3.8/site-packages (from stack-data->ipython>=7.23.1->ipykernel->jupyter->-r requirements.txt (line 3)) (0.2.2)\n",
      "Requirement already satisfied: asttokens in /opt/anaconda3/envs/dms_spark/lib/python3.8/site-packages (from stack-data->ipython>=7.23.1->ipykernel->jupyter->-r requirements.txt (line 3)) (2.0.5)\n",
      "Requirement already satisfied: pycparser in /opt/anaconda3/envs/dms_spark/lib/python3.8/site-packages (from cffi>=1.0.1->argon2-cffi-bindings->argon2-cffi->notebook->jupyter->-r requirements.txt (line 3)) (2.21)\n",
      "Requirement already satisfied: zipp>=3.1.0 in /opt/anaconda3/envs/dms_spark/lib/python3.8/site-packages (from importlib-resources>=1.4.0->jsonschema>=2.6->nbformat>=5.1->nbconvert->jupyter->-r requirements.txt (line 3)) (3.8.1)\n"
     ]
    }
   ],
   "source": [
    "# libraries\n",
    "import pandas as pd\n",
    "import numpy as np\n",
    "from pymongo import MongoClient\n",
    "import matplotlib.pyplot as plt\n",
    "import datetime\n",
    "import seaborn as sns\n",
    "!pip install -r requirements.txt"
   ]
  },
  {
   "cell_type": "code",
   "execution_count": 29,
   "id": "b52ee39c",
   "metadata": {},
   "outputs": [],
   "source": [
    "# # functions\n",
    "import pyspark.sql.functions as F\n",
    "# data types\n",
    "from pyspark.sql.types import *\n",
    "# import datetime \n",
    "from datetime import date as dt"
   ]
  },
  {
   "cell_type": "markdown",
   "id": "d7af5865",
   "metadata": {},
   "source": [
    "## Upload data onto MongoDB and Data Cleaning"
   ]
  },
  {
   "cell_type": "code",
   "execution_count": 30,
   "id": "5a33cfa5",
   "metadata": {},
   "outputs": [],
   "source": [
    "#read data in csv format\n",
    "git = pd.read_csv('/Users/yilingng/Documents/DMS_fcp/gitData.csv')\n",
    "issues = pd.read_csv('/Users/yilingng/Documents/DMS_fcp/gitIssues.csv')"
   ]
  },
  {
   "cell_type": "code",
   "execution_count": 31,
   "id": "b019ee48",
   "metadata": {
    "ExecuteTime": {
     "end_time": "2022-07-08T13:46:29.994539Z",
     "start_time": "2022-07-08T13:46:29.954839Z"
    }
   },
   "outputs": [
    {
     "name": "stdout",
     "output_type": "stream",
     "text": [
      "(60996, 30)\n",
      "(32329, 22)\n"
     ]
    }
   ],
   "source": [
    "# check the shape of the data\n",
    "print(git.shape)\n",
    "print(issues.shape)"
   ]
  },
  {
   "cell_type": "code",
   "execution_count": 32,
   "id": "4f9394e8",
   "metadata": {
    "ExecuteTime": {
     "end_time": "2022-07-08T13:45:39.241782Z",
     "start_time": "2022-07-08T13:45:38.443669Z"
    }
   },
   "outputs": [
    {
     "name": "stdout",
     "output_type": "stream",
     "text": [
      "<class 'pandas.core.frame.DataFrame'>\n",
      "RangeIndex: 60996 entries, 0 to 60995\n",
      "Data columns (total 30 columns):\n",
      " #   Column              Non-Null Count  Dtype  \n",
      "---  ------              --------------  -----  \n",
      " 0   Unnamed: 0          60996 non-null  int64  \n",
      " 1   hash                60996 non-null  object \n",
      " 2   msg                 60996 non-null  object \n",
      " 3   author_name         60996 non-null  object \n",
      " 4   committer_name      60996 non-null  object \n",
      " 5   author_date         60996 non-null  object \n",
      " 6   author_timezone     60996 non-null  int64  \n",
      " 7   committer_date      60996 non-null  object \n",
      " 8   committer_timezone  60996 non-null  int64  \n",
      " 9   branches            60996 non-null  object \n",
      " 10  in_main_branch      60996 non-null  bool   \n",
      " 11  merge               60996 non-null  bool   \n",
      " 12  parents             60996 non-null  object \n",
      " 13  project_name        60996 non-null  object \n",
      " 14  deletions           60996 non-null  int64  \n",
      " 15  insertions          60996 non-null  int64  \n",
      " 16  lines               60996 non-null  int64  \n",
      " 17  files               60996 non-null  int64  \n",
      " 18  old_path            56877 non-null  object \n",
      " 19  new_path            59515 non-null  object \n",
      " 20  filename            60996 non-null  object \n",
      " 21  change_type         60996 non-null  object \n",
      " 22  diff                60397 non-null  object \n",
      " 23  diff_parsed         60570 non-null  object \n",
      " 24  deleted_lines       60996 non-null  int64  \n",
      " 25  source_code         58843 non-null  object \n",
      " 26  source_code_before  56092 non-null  object \n",
      " 27  nloc                28584 non-null  float64\n",
      " 28  complexity          28584 non-null  float64\n",
      " 29  token_count         28584 non-null  float64\n",
      "dtypes: bool(2), float64(3), int64(8), object(17)\n",
      "memory usage: 13.1+ MB\n",
      "None\n",
      "<class 'pandas.core.frame.DataFrame'>\n",
      "RangeIndex: 32329 entries, 0 to 32328\n",
      "Data columns (total 22 columns):\n",
      " #   Column              Non-Null Count  Dtype  \n",
      "---  ------              --------------  -----  \n",
      " 0   Unnamed: 0          32329 non-null  int64  \n",
      " 1   title               32329 non-null  object \n",
      " 2   state               32329 non-null  object \n",
      " 3   body                31868 non-null  object \n",
      " 4   user                32329 non-null  object \n",
      " 5   user_id             32329 non-null  object \n",
      " 6   repository          0 non-null      float64\n",
      " 7   created_at          32329 non-null  object \n",
      " 8   updated_at          32329 non-null  object \n",
      " 9   closed_at           32329 non-null  object \n",
      " 10  assignees           32329 non-null  object \n",
      " 11  labels              32329 non-null  object \n",
      " 12  reactions           32329 non-null  object \n",
      " 13  n_comments          32329 non-null  int64  \n",
      " 14  closed_by           13241 non-null  object \n",
      " 15  comment_id          32329 non-null  int64  \n",
      " 16  comment_created_at  32329 non-null  object \n",
      " 17  comment_updated_at  32329 non-null  object \n",
      " 18  comment_user_id     32329 non-null  object \n",
      " 19  comment_user        32329 non-null  object \n",
      " 20  comment_text        32329 non-null  object \n",
      " 21  project             32329 non-null  object \n",
      "dtypes: float64(1), int64(3), object(18)\n",
      "memory usage: 5.4+ MB\n",
      "None\n"
     ]
    }
   ],
   "source": [
    "#data inspection\n",
    "print(git.info())\n",
    "print(issues.info())"
   ]
  },
  {
   "cell_type": "code",
   "execution_count": 33,
   "id": "99e03f1e",
   "metadata": {},
   "outputs": [
    {
     "name": "stderr",
     "output_type": "stream",
     "text": [
      "/var/folders/yr/s6gbqy0s2kd5cn1_s40p4b2w0000gn/T/ipykernel_13955/3902335322.py:3: FutureWarning: The default value of regex will change from True to False in a future version.\n",
      "  git['project_type'] = git['project_name'].str.replace(regx, \"pytorch\").fillna(git['project_name'])\n"
     ]
    }
   ],
   "source": [
    "# create a new column of project types for gitData, which contains only pytorch and tensorflow \n",
    "regx = r'({})'.format('|'.join(['pytorch', 'audio', 'text', 'vision', 'serve', 'torchrec','elastic', 'xla']))\n",
    "git['project_type'] = git['project_name'].str.replace(regx, \"pytorch\").fillna(git['project_name'])"
   ]
  },
  {
   "cell_type": "code",
   "execution_count": 34,
   "id": "c5d3d2c8",
   "metadata": {
    "ExecuteTime": {
     "end_time": "2022-07-07T15:13:26.360886Z",
     "start_time": "2022-07-07T15:13:26.036907Z"
    }
   },
   "outputs": [
    {
     "name": "stdout",
     "output_type": "stream",
     "text": [
      "\n",
      "Database\n",
      "==========\n",
      "Database(MongoClient(host=['localhost:27017'], document_class=dict, tz_aware=False, connect=True), 'github')\n",
      "\n",
      "Collection\n",
      "==========\n",
      "Collection(Database(MongoClient(host=['localhost:27017'], document_class=dict, tz_aware=False, connect=True), 'github'), 'gitIssues')\n",
      "\n"
     ]
    }
   ],
   "source": [
    "# let's connect to the localhost\n",
    "client = MongoClient()\n",
    "\n",
    "# let's create a database \n",
    "db = client.github\n",
    "\n",
    "# collection for git issues\n",
    "gitIssues = db.gitIssues\n",
    "\n",
    "# print connection\n",
    "print(\"\"\"\n",
    "Database\n",
    "==========\n",
    "{}\n",
    "\n",
    "Collection\n",
    "==========\n",
    "{}\n",
    "\"\"\".format(db, gitIssues), flush=True\n",
    ")"
   ]
  },
  {
   "cell_type": "code",
   "execution_count": 26,
   "id": "7118cb22",
   "metadata": {
    "ExecuteTime": {
     "end_time": "2022-07-07T15:15:53.539572Z",
     "start_time": "2022-07-07T15:14:52.895015Z"
    }
   },
   "outputs": [
    {
     "name": "stdout",
     "output_type": "stream",
     "text": [
      "CPU times: user 4.93 s, sys: 132 ms, total: 5.06 s\n",
      "Wall time: 11.1 s\n"
     ]
    }
   ],
   "source": [
    "%%time \n",
    "##\n",
    "# slow loading of data\n",
    "d_gitissue = {}\n",
    "# pass data \n",
    "for i in issues.index:\n",
    "    d_gitissue = {\n",
    "        \"Questions\": {\n",
    "            \"Title\": issues.loc[i,\"title\"],\n",
    "            \"Body\": issues.loc[i,\"body\"]\n",
    "        },\n",
    "        \"User\" : {\n",
    "            \"Username\" : issues.loc[i, \"user\"],\n",
    "            \"User_ID\" :  issues.loc[i,\"user_id\"]\n",
    "        },\n",
    "        \"State\" : {\n",
    "            \"State\" : issues.loc[i, \"state\"],\n",
    "            \"Created_at\" :  issues.loc[i,\"created_at\"],\n",
    "            \"Updated_at\" :  issues.loc[i,\"updated_at\"],\n",
    "            \"Closed_at\" : issues.loc[i, \"closed_at\"]\n",
    "        },\n",
    "        \"Assignees\" : issues.loc[i, \"assignees\"],\n",
    "        \"Closed_by\" : issues.loc[i, \"closed_by\"],\n",
    "        \"Labels\" : issues.loc[i, \"labels\"],\n",
    "        \"Reactions\" : issues.loc[i, \"reactions\"],\n",
    "        \"N_comments\" : issues.loc[i, \"n_comments\"].astype(str),\n",
    "        \"Projects\" : issues.loc[i, \"project\"]\n",
    "    }\n",
    "    if i == 0:\n",
    "        gitIssues.insert_one(d_gitissue)\n",
    "    else: \n",
    "        if issues.loc[i, 'title'] == issues.loc[i-1,'title']:\n",
    "            continue\n",
    "        else:\n",
    "            gitIssues.insert_one(d_gitissue)"
   ]
  },
  {
   "cell_type": "code",
   "execution_count": 5,
   "id": "0422f574",
   "metadata": {},
   "outputs": [
    {
     "name": "stdout",
     "output_type": "stream",
     "text": [
      "\n",
      "Database\n",
      "==========\n",
      "Database(MongoClient(host=['localhost:27017'], document_class=dict, tz_aware=False, connect=True), 'github')\n",
      "\n",
      "Collection\n",
      "==========\n",
      "Collection(Database(MongoClient(host=['localhost:27017'], document_class=dict, tz_aware=False, connect=True), 'github'), 'IssueComment')\n",
      "\n"
     ]
    }
   ],
   "source": [
    "# new collection for issue comment\n",
    "IssueComment = db.IssueComment\n",
    "\n",
    "# print connection\n",
    "print(\"\"\"\n",
    "Database\n",
    "==========\n",
    "{}\n",
    "\n",
    "Collection\n",
    "==========\n",
    "{}\n",
    "\"\"\".format(db, IssueComment), flush=True\n",
    ")"
   ]
  },
  {
   "cell_type": "code",
   "execution_count": 406,
   "id": "2dc34366",
   "metadata": {},
   "outputs": [
    {
     "name": "stdout",
     "output_type": "stream",
     "text": [
      "CPU times: user 5.61 s, sys: 369 ms, total: 5.98 s\n",
      "Wall time: 9.65 s\n"
     ]
    }
   ],
   "source": [
    "%%time \n",
    "##\n",
    "# slow loading of data\n",
    "d_comment = {}\n",
    "# pass data \n",
    "for i in issues.index:\n",
    "    d_comment = {\n",
    "        \"Title\": issues.loc[i,\"title\"],\n",
    "        \"Comment_id\": issues.loc[i,\"comment_id\"].astype(str),\n",
    "        \"Comment_created_at\": issues.loc[i,\"comment_created_at\"],\n",
    "        \"Comment_updated_at\": issues.loc[i, \"comment_updated_at\"],\n",
    "        \"Comment_user_id\": issues.loc[i, \"comment_user_id\"],\n",
    "        \"Comment_user\": issues.loc[i, \"comment_user\"],\n",
    "        \"Comment_text\": issues.loc[i, \"comment_text\"]\n",
    "    }\n",
    "    IssueComment.insert_one(d_comment)"
   ]
  },
  {
   "cell_type": "code",
   "execution_count": 36,
   "id": "b4f153e2",
   "metadata": {},
   "outputs": [],
   "source": [
    "# let's connect to the localhost\n",
    "client = MongoClient()\n",
    "\n",
    "# let's create a database \n",
    "db = client.github"
   ]
  },
  {
   "cell_type": "code",
   "execution_count": 35,
   "id": "dab392c6",
   "metadata": {
    "ExecuteTime": {
     "end_time": "2022-07-08T13:46:57.103861Z",
     "start_time": "2022-07-08T13:46:57.022520Z"
    }
   },
   "outputs": [
    {
     "name": "stdout",
     "output_type": "stream",
     "text": [
      "\n",
      "Database\n",
      "==========\n",
      "Database(MongoClient(host=['localhost:27017'], document_class=dict, tz_aware=False, connect=True), 'github')\n",
      "\n",
      "Collection\n",
      "==========\n",
      "Collection(Database(MongoClient(host=['localhost:27017'], document_class=dict, tz_aware=False, connect=True), 'github'), 'gitData')\n",
      "\n"
     ]
    }
   ],
   "source": [
    "# new collection for git data\n",
    "gitData = db.gitData\n",
    "\n",
    "# print connection\n",
    "print(\"\"\"\n",
    "Database\n",
    "==========\n",
    "{}\n",
    "\n",
    "Collection\n",
    "==========\n",
    "{}\n",
    "\"\"\".format(db, gitData), flush=True\n",
    ")"
   ]
  },
  {
   "cell_type": "code",
   "execution_count": 162,
   "id": "ec5d52b8",
   "metadata": {
    "ExecuteTime": {
     "end_time": "2022-07-08T13:58:09.735220Z",
     "start_time": "2022-07-08T13:47:16.024086Z"
    }
   },
   "outputs": [],
   "source": [
    "# import the git data to mongo compass\n",
    "#%%time \n",
    "##\n",
    "# slow loading of data\n",
    "d_gitcommit = {}\n",
    "#pass data\n",
    "for i in git.index:\n",
    "    d_gitcommit = {\n",
    "        \"Commit\": {\n",
    "            \"hash\":git.loc[i, \"hash\"],\n",
    "            \"Msg\":{\n",
    "                \"msg\":git.loc[i, 'msg'],\n",
    "                \"Author\":{\n",
    "                    \"Author_name\": git.loc[i, 'author_name'],\n",
    "                    \"Author_date\": git.loc[i, 'author_date'],\n",
    "                    \"Author_timezone\": git.loc[i, 'author_timezone'].astype(str)\n",
    "                }\n",
    "            },\n",
    "            \"Committer\":{\n",
    "                \"Committer_name\": git.loc[i, 'committer_name'],\n",
    "                \"Committer_date\": git.loc[i, 'committer_date'],\n",
    "                \"Committer_timezone\": git.loc[i, 'committer_timezone'].astype(str)\n",
    "            }\n",
    "        },\n",
    "        \"Branch\":{\n",
    "            \"Branches\": git.loc[i, 'branches'],\n",
    "            \"In_main_branch\": git.loc[i, 'in_main_branch'].astype(str),\n",
    "            \"Merge\": git.loc[i, 'merge'].astype(str),\n",
    "            \"Parents\":git.loc[i, 'parents']\n",
    "        },\n",
    "        \"Project_name\": {\n",
    "            \"Project_type\" : git.loc[i, 'project_type'],\n",
    "            \"Project_name\": git.loc[i, 'project_name']\n",
    "            },\n",
    "        \"File\":{\n",
    "            \"Filename\": git.loc[i, 'filename'],\n",
    "            \"Change_type\": git.loc[i, 'change_type'],\n",
    "            \"Commit_change\":{\n",
    "                \"Deletions\": git.loc[i, 'deletions'].astype(str),\n",
    "                \"Insertions\": git.loc[i, 'insertions'].astype(str),\n",
    "                \"Files\": git.loc[i, 'files'].astype(str),\n",
    "                \"Lines\":git.loc[i, 'lines'].astype(str)\n",
    "            }\n",
    "        },\n",
    "        \"Code_change\":{\n",
    "            \"Path\":{\n",
    "                \"old_path\":git.loc[i, 'old_path'],\n",
    "                \"new_path\": git.loc[i, 'new_path']\n",
    "            },\n",
    "            \"Diff\":{\n",
    "                \"Diff\": git.loc[i, 'diff'],\n",
    "                \"Diff_parse\":{\n",
    "                    \"Diff_parsed\":git.loc[i, 'diff_parsed'],\n",
    "                    \"Deleted_lines\":git.loc[i, 'deleted_lines'].astype(str)\n",
    "                }\n",
    "            },\n",
    "            \"Source_code\":{\n",
    "                \"Source_code\":git.loc[i, 'source_code'],\n",
    "                \"Source_code_before\":git.loc[i, 'source_code_before']\n",
    "            }\n",
    "        },\n",
    "        \"Nloc\":git.loc[i, 'nloc'],\n",
    "        \"Complexity\":git.loc[i, 'complexity'],\n",
    "        \"Token_count\":git.loc[i, 'token_count']\n",
    "        \n",
    "     }\n",
    "    gitData.insert_one(d_gitcommit)"
   ]
  },
  {
   "cell_type": "code",
   "execution_count": 8,
   "id": "bbe04373",
   "metadata": {},
   "outputs": [],
   "source": [
    "# let's connect to the localhost\n",
    "client = MongoClient()\n",
    "# link to the database\n",
    "db = client.github\n",
    "\n",
    "# link to the collection\n",
    "gitData = db.gitData\n",
    "gitIssues = db.gitIssues\n",
    "IssueComment = db.IssueComment\n"
   ]
  },
  {
   "cell_type": "code",
   "execution_count": 33,
   "id": "28dadc80",
   "metadata": {},
   "outputs": [],
   "source": [
    "# data cleaning\n",
    "# clean the NA values into null\n",
    "# get key names\n",
    "key_list_issue = []\n",
    "for i in d_gitissue.keys():\n",
    "    try:\n",
    "        for b in d_gitissue.get(str(i)).keys():\n",
    "            key_list_issue.append(str(i) + '.' + str(b))\n",
    "    except:\n",
    "        key_list_issue.append(i)"
   ]
  },
  {
   "cell_type": "code",
   "execution_count": 409,
   "id": "1c7b55b3",
   "metadata": {},
   "outputs": [],
   "source": [
    "# get key names\n",
    "key_list_comment = []\n",
    "for i in d_comment.keys():\n",
    "    try:\n",
    "        for b in d_comment.get(str(i)).keys():\n",
    "            key_list_comment.append(str(i) + '.' + str(b))\n",
    "    except:\n",
    "        key_list_comment.append(i)"
   ]
  },
  {
   "cell_type": "code",
   "execution_count": 412,
   "id": "e5990f00",
   "metadata": {},
   "outputs": [],
   "source": [
    "# get key names\n",
    "key_list_commit = []\n",
    "for i in d_gitcommit.keys():\n",
    "    try:\n",
    "        for b in d_gitcommit.get(str(i)).keys():\n",
    "            key_list_commit.append(str(i) + '.' + str(b))\n",
    "    except:\n",
    "        key_list_commit.append(i)"
   ]
  },
  {
   "cell_type": "code",
   "execution_count": null,
   "id": "ffee7168",
   "metadata": {},
   "outputs": [],
   "source": [
    "# unset NaN fields\n",
    "for i in key_list_issue:\n",
    "    update = gitIssues.update_many({str(i):np.nan},{\"$unset\": {str(i):\"\"}})\n",
    "    print(\"\"\"\n",
    "    Key: {}\n",
    "    Matched: {}\n",
    "    Modified: {}\n",
    "    ------------\n",
    "    \"\"\".format(i, update.matched_count, update.modified_count), flush=True)"
   ]
  },
  {
   "cell_type": "code",
   "execution_count": 415,
   "id": "164dd449",
   "metadata": {},
   "outputs": [
    {
     "name": "stdout",
     "output_type": "stream",
     "text": [
      "\n",
      "    Key: Title\n",
      "    Matched: 0\n",
      "    Modified: 0\n",
      "    ------------\n",
      "    \n",
      "\n",
      "    Key: Comment_id\n",
      "    Matched: 0\n",
      "    Modified: 0\n",
      "    ------------\n",
      "    \n",
      "\n",
      "    Key: Comment_created_at\n",
      "    Matched: 0\n",
      "    Modified: 0\n",
      "    ------------\n",
      "    \n",
      "\n",
      "    Key: Comment_updated_at\n",
      "    Matched: 0\n",
      "    Modified: 0\n",
      "    ------------\n",
      "    \n",
      "\n",
      "    Key: Comment_user_id\n",
      "    Matched: 0\n",
      "    Modified: 0\n",
      "    ------------\n",
      "    \n",
      "\n",
      "    Key: Comment_user\n",
      "    Matched: 0\n",
      "    Modified: 0\n",
      "    ------------\n",
      "    \n",
      "\n",
      "    Key: Comment_text\n",
      "    Matched: 0\n",
      "    Modified: 0\n",
      "    ------------\n",
      "    \n",
      "\n",
      "    Key: _id\n",
      "    Matched: 0\n",
      "    Modified: 0\n",
      "    ------------\n",
      "    \n"
     ]
    }
   ],
   "source": [
    "# unset NaN fields\n",
    "for i in key_list_comment:\n",
    "    update = IssueComment.update_many({str(i):np.nan},{\"$unset\": {str(i):\"\"}})\n",
    "    print(\"\"\"\n",
    "    Key: {}\n",
    "    Matched: {}\n",
    "    Modified: {}\n",
    "    ------------\n",
    "    \"\"\".format(i, update.matched_count, update.modified_count), flush=True)"
   ]
  },
  {
   "cell_type": "code",
   "execution_count": 38,
   "id": "3f5c0d70",
   "metadata": {},
   "outputs": [
    {
     "name": "stdout",
     "output_type": "stream",
     "text": [
      "\n",
      "    Key: Commit.hash\n",
      "    Matched: 0\n",
      "    Modified: 0\n",
      "    ------------\n",
      "    \n",
      "\n",
      "    Key: Commit.Msg\n",
      "    Matched: 0\n",
      "    Modified: 0\n",
      "    ------------\n",
      "    \n",
      "\n",
      "    Key: Commit.Committer\n",
      "    Matched: 0\n",
      "    Modified: 0\n",
      "    ------------\n",
      "    \n",
      "\n",
      "    Key: Branch.Branches\n",
      "    Matched: 0\n",
      "    Modified: 0\n",
      "    ------------\n",
      "    \n",
      "\n",
      "    Key: Branch.In_main_branch\n",
      "    Matched: 0\n",
      "    Modified: 0\n",
      "    ------------\n",
      "    \n",
      "\n",
      "    Key: Branch.Merge\n",
      "    Matched: 0\n",
      "    Modified: 0\n",
      "    ------------\n",
      "    \n",
      "\n",
      "    Key: Branch.Parents\n",
      "    Matched: 0\n",
      "    Modified: 0\n",
      "    ------------\n",
      "    \n",
      "\n",
      "    Key: Project_name\n",
      "    Matched: 0\n",
      "    Modified: 0\n",
      "    ------------\n",
      "    \n",
      "\n",
      "    Key: File.Filename\n",
      "    Matched: 0\n",
      "    Modified: 0\n",
      "    ------------\n",
      "    \n",
      "\n",
      "    Key: File.Change_type\n",
      "    Matched: 0\n",
      "    Modified: 0\n",
      "    ------------\n",
      "    \n",
      "\n",
      "    Key: File.Commit_change\n",
      "    Matched: 0\n",
      "    Modified: 0\n",
      "    ------------\n",
      "    \n",
      "\n",
      "    Key: Code_change.Path\n",
      "    Matched: 0\n",
      "    Modified: 0\n",
      "    ------------\n",
      "    \n",
      "\n",
      "    Key: Code_change.Diff\n",
      "    Matched: 0\n",
      "    Modified: 0\n",
      "    ------------\n",
      "    \n",
      "\n",
      "    Key: Code_change.Source_code\n",
      "    Matched: 0\n",
      "    Modified: 0\n",
      "    ------------\n",
      "    \n",
      "\n",
      "    Key: Nloc\n",
      "    Matched: 32412\n",
      "    Modified: 32412\n",
      "    ------------\n",
      "    \n",
      "\n",
      "    Key: Complexity\n",
      "    Matched: 32412\n",
      "    Modified: 32412\n",
      "    ------------\n",
      "    \n",
      "\n",
      "    Key: Token_count\n",
      "    Matched: 32412\n",
      "    Modified: 32412\n",
      "    ------------\n",
      "    \n",
      "\n",
      "    Key: _id\n",
      "    Matched: 0\n",
      "    Modified: 0\n",
      "    ------------\n",
      "    \n"
     ]
    }
   ],
   "source": [
    "# unset NaN fields\n",
    "for i in key_list_commit:\n",
    "    update = gitData.update_many({str(i):np.nan},{\"$unset\": {str(i):\"\"}})\n",
    "    print(\"\"\"\n",
    "    Key: {}\n",
    "    Matched: {}\n",
    "    Modified: {}\n",
    "    ------------\n",
    "    \"\"\".format(i, update.matched_count, update.modified_count), flush=True)"
   ]
  },
  {
   "cell_type": "code",
   "execution_count": 39,
   "id": "7d03e1af",
   "metadata": {},
   "outputs": [
    {
     "name": "stdout",
     "output_type": "stream",
     "text": [
      "\n",
      "    Key: Created_at\n",
      "    Matched: 5513\n",
      "    Modified: 5513\n",
      "    ------------\n",
      "    \n"
     ]
    }
   ],
   "source": [
    "# update the date date from string to datetime\n",
    "# change the data type of 'Created_at', 'Updated_at', and 'closed_at' in gitissues\n",
    "update = gitIssues.update_many(\n",
    "    {},\n",
    "    [{\"$set\": {\n",
    "        \"State.Created_at\": {\n",
    "            \"$toDate\":\"$State.Created_at\" } \n",
    "        }\n",
    "    }\n",
    "]\n",
    ")\n",
    "\n",
    "print(\"\"\"\n",
    "    Key: {}\n",
    "    Matched: {}\n",
    "    Modified: {}\n",
    "    ------------\n",
    "    \"\"\".format(\"Created_at\", update.matched_count, update.modified_count), flush=True)"
   ]
  },
  {
   "cell_type": "code",
   "execution_count": 40,
   "id": "48cffad1",
   "metadata": {},
   "outputs": [
    {
     "name": "stdout",
     "output_type": "stream",
     "text": [
      "\n",
      "    Key: Updated_at\n",
      "    Matched: 5513\n",
      "    Modified: 5513\n",
      "    ------------\n",
      "    \n"
     ]
    }
   ],
   "source": [
    "# change the data type of 'Created_at', 'Updated_at', and 'closed_at' in gitissues\n",
    "update = gitIssues.update_many(\n",
    "    {},\n",
    "    [{\"$set\": {\n",
    "        \"State.Updated_at\": {\n",
    "            \"$toDate\":\"$State.Updated_at\" } \n",
    "        }\n",
    "    }\n",
    "]\n",
    ")\n",
    "\n",
    "print(\"\"\"\n",
    "    Key: {}\n",
    "    Matched: {}\n",
    "    Modified: {}\n",
    "    ------------\n",
    "    \"\"\".format(\"Updated_at\", update.matched_count, update.modified_count), flush=True)"
   ]
  },
  {
   "cell_type": "code",
   "execution_count": 41,
   "id": "94bcb23e",
   "metadata": {},
   "outputs": [
    {
     "name": "stdout",
     "output_type": "stream",
     "text": [
      "\n",
      "    Key: Closed_at\n",
      "    Matched: 5513\n",
      "    Modified: 5513\n",
      "    ------------\n",
      "    \n"
     ]
    }
   ],
   "source": [
    "# change the data type of 'Created_at', 'Updated_at', and 'closed_at' in gitissues\n",
    "update = gitIssues.update_many(\n",
    "    {},\n",
    "    [{\"$set\": {\n",
    "        \"State.Closed_at\": {\n",
    "            \"$toDate\":\"$State.Closed_at\" } \n",
    "        }\n",
    "    }\n",
    "]\n",
    ")\n",
    "\n",
    "print(\"\"\"\n",
    "    Key: {}\n",
    "    Matched: {}\n",
    "    Modified: {}\n",
    "    ------------\n",
    "    \"\"\".format(\"Closed_at\", update.matched_count, update.modified_count), flush=True)"
   ]
  },
  {
   "cell_type": "code",
   "execution_count": 164,
   "id": "67bc53ee",
   "metadata": {},
   "outputs": [
    {
     "name": "stdout",
     "output_type": "stream",
     "text": [
      "\n",
      "    Key: Commit.Msg.Author.Author_date\n",
      "    Matched: 60996\n",
      "    Modified: 60996\n",
      "    ------------\n",
      "    \n"
     ]
    }
   ],
   "source": [
    "# change the data type of 'Author_date', 'Committer_date' in gitData\n",
    "update = gitData.update_many(\n",
    "    {},\n",
    "    [{\"$set\": {\n",
    "        \"Commit.Msg.Author.Author_date\": {\n",
    "            \"$toDate\":\"$Commit.Msg.Author.Author_date\" } \n",
    "        }\n",
    "    }\n",
    "]\n",
    ")\n",
    "\n",
    "print(\"\"\"\n",
    "    Key: {}\n",
    "    Matched: {}\n",
    "    Modified: {}\n",
    "    ------------\n",
    "    \"\"\".format(\"Commit.Msg.Author.Author_date\", update.matched_count, update.modified_count), flush=True)"
   ]
  },
  {
   "cell_type": "code",
   "execution_count": 165,
   "id": "3f9a838d",
   "metadata": {},
   "outputs": [
    {
     "name": "stdout",
     "output_type": "stream",
     "text": [
      "\n",
      "    Key: Commit.Committer.Committer_date\n",
      "    Matched: 60996\n",
      "    Modified: 60996\n",
      "    ------------\n",
      "    \n"
     ]
    }
   ],
   "source": [
    "# change the data type of 'Author_date', 'Committer_date' in gitData\n",
    "update = gitData.update_many(\n",
    "    {},\n",
    "    [{\"$set\": {\n",
    "        \"Commit.Committer.Committer_date\": {\n",
    "            \"$toDate\":\"$Commit.Committer.Committer_date\" } \n",
    "        }\n",
    "    }\n",
    "]\n",
    ")\n",
    "\n",
    "print(\"\"\"\n",
    "    Key: {}\n",
    "    Matched: {}\n",
    "    Modified: {}\n",
    "    ------------\n",
    "    \"\"\".format(\"Commit.Committer.Committer_date\", update.matched_count, update.modified_count), flush=True)"
   ]
  },
  {
   "cell_type": "code",
   "execution_count": 416,
   "id": "25b86615",
   "metadata": {},
   "outputs": [
    {
     "name": "stdout",
     "output_type": "stream",
     "text": [
      "\n",
      "    Key: Comment_created_at\n",
      "    Matched: 32329\n",
      "    Modified: 32329\n",
      "    ------------\n",
      "    \n"
     ]
    }
   ],
   "source": [
    "# change the data type of 'Comment_created_at' in issueComment\n",
    "update = IssueComment.update_many(\n",
    "    {},\n",
    "    [{\"$set\": {\n",
    "        \"Comment_created_at\": {\n",
    "            \"$toDate\":\"$Comment_created_at\" } \n",
    "        }\n",
    "    }\n",
    "]\n",
    ")\n",
    "\n",
    "print(\"\"\"\n",
    "    Key: {}\n",
    "    Matched: {}\n",
    "    Modified: {}\n",
    "    ------------\n",
    "    \"\"\".format(\"Comment_created_at\", update.matched_count, update.modified_count), flush=True)"
   ]
  },
  {
   "cell_type": "code",
   "execution_count": 45,
   "id": "1d4ea367",
   "metadata": {},
   "outputs": [
    {
     "name": "stdout",
     "output_type": "stream",
     "text": [
      "\n",
      "    Key: N_comments\n",
      "    Matched: 5513\n",
      "    Modified: 5513\n",
      "    ------------\n",
      "    \n"
     ]
    }
   ],
   "source": [
    "# update numeric data from string to int\n",
    "# change the data type of \"N_comments\" in gitIssues into integer\n",
    "update = gitIssues.update_many(\n",
    "    {},\n",
    "    [{\"$set\": {\n",
    "        \"N_comments\": {\n",
    "            \"$toInt\":\"$N_comments\" } \n",
    "        }\n",
    "    }\n",
    "]\n",
    ")\n",
    "\n",
    "print(\"\"\"\n",
    "    Key: {}\n",
    "    Matched: {}\n",
    "    Modified: {}\n",
    "    ------------\n",
    "    \"\"\".format(\"N_comments\", update.matched_count, update.modified_count), flush=True)"
   ]
  },
  {
   "cell_type": "code",
   "execution_count": 417,
   "id": "c9b4ea67",
   "metadata": {},
   "outputs": [
    {
     "name": "stdout",
     "output_type": "stream",
     "text": [
      "\n",
      "    Key: Author_timezone\n",
      "    Matched: 32329\n",
      "    Modified: 32329\n",
      "    ------------\n",
      "    \n"
     ]
    }
   ],
   "source": [
    "# change the data type of \"Author_timezone\" in gitData into integer\n",
    "update = IssueComment.update_many(\n",
    "    {},\n",
    "    [{\"$set\": {\n",
    "        \"N_comments\": {\n",
    "            \"$toInt\":\"$N_comments\" } \n",
    "        }\n",
    "    }\n",
    "]\n",
    ")\n",
    "\n",
    "print(\"\"\"\n",
    "    Key: {}\n",
    "    Matched: {}\n",
    "    Modified: {}\n",
    "    ------------\n",
    "    \"\"\".format(\"Author_timezone\", update.matched_count, update.modified_count), flush=True)"
   ]
  },
  {
   "cell_type": "code",
   "execution_count": 166,
   "id": "77eed3a6",
   "metadata": {},
   "outputs": [
    {
     "name": "stdout",
     "output_type": "stream",
     "text": [
      "\n",
      "    Key: Author_timezone\n",
      "    Matched: 60996\n",
      "    Modified: 60996\n",
      "    ------------\n",
      "    \n"
     ]
    }
   ],
   "source": [
    "# change the data type of \"Author_timezone\" in gitData into integer\n",
    "update = gitData.update_many(\n",
    "    {},\n",
    "    [{\"$set\": {\n",
    "        \"Commit.Msg.Author.Author_timezone\": {\n",
    "            \"$toInt\":\"$Commit.Msg.Author.Author_timezone\" } \n",
    "        }\n",
    "    }\n",
    "]\n",
    ")\n",
    "\n",
    "print(\"\"\"\n",
    "    Key: {}\n",
    "    Matched: {}\n",
    "    Modified: {}\n",
    "    ------------\n",
    "    \"\"\".format(\"Author_timezone\", update.matched_count, update.modified_count), flush=True)"
   ]
  },
  {
   "cell_type": "code",
   "execution_count": 167,
   "id": "bb725c79",
   "metadata": {},
   "outputs": [
    {
     "name": "stdout",
     "output_type": "stream",
     "text": [
      "\n",
      "    Key: Commit.Committer.Committer_timezone\n",
      "    Matched: 60996\n",
      "    Modified: 60996\n",
      "    ------------\n",
      "    \n"
     ]
    }
   ],
   "source": [
    "# change the data type of \"Author_timezone\" in gitData into integer\n",
    "update = gitData.update_many(\n",
    "    {},\n",
    "    [{\"$set\": {\n",
    "        \"Commit.Committer.Committer_timezone\": {\n",
    "            \"$toInt\":\"$Commit.Committer.Committer_timezone\" } \n",
    "        }\n",
    "    }\n",
    "]\n",
    ")\n",
    "\n",
    "print(\"\"\"\n",
    "    Key: {}\n",
    "    Matched: {}\n",
    "    Modified: {}\n",
    "    ------------\n",
    "    \"\"\".format(\"Commit.Committer.Committer_timezone\", update.matched_count, update.modified_count), flush=True)"
   ]
  },
  {
   "cell_type": "code",
   "execution_count": 168,
   "id": "a6ec72d3",
   "metadata": {},
   "outputs": [
    {
     "name": "stdout",
     "output_type": "stream",
     "text": [
      "\n",
      "    Key: Deletions\n",
      "    Matched: 60996\n",
      "    Modified: 60996\n",
      "    ------------\n",
      "    \n"
     ]
    }
   ],
   "source": [
    "# change the data type of \"Deletions\" in gitdata into integer\n",
    "update = gitData.update_many(\n",
    "    {},\n",
    "    [{\"$set\": {\n",
    "        \"File.Commit_change.Deletions\": {\n",
    "            \"$toInt\":\"$File.Commit_change.Deletions\" } \n",
    "        }\n",
    "    }\n",
    "]\n",
    ")\n",
    "\n",
    "print(\"\"\"\n",
    "    Key: {}\n",
    "    Matched: {}\n",
    "    Modified: {}\n",
    "    ------------\n",
    "    \"\"\".format(\"Deletions\", update.matched_count, update.modified_count), flush=True)"
   ]
  },
  {
   "cell_type": "code",
   "execution_count": 169,
   "id": "e7d809b1",
   "metadata": {},
   "outputs": [
    {
     "name": "stdout",
     "output_type": "stream",
     "text": [
      "\n",
      "    Key: Insertions\n",
      "    Matched: 60996\n",
      "    Modified: 60996\n",
      "    ------------\n",
      "    \n"
     ]
    }
   ],
   "source": [
    "# change the data type of \"Insertions\" in gitdata into integer\n",
    "update = gitData.update_many(\n",
    "    {},\n",
    "    [{\"$set\": {\n",
    "        \"File.Commit_change.Insertions\": {\n",
    "            \"$toInt\":\"$File.Commit_change.Insertions\" } \n",
    "        }\n",
    "    }\n",
    "]\n",
    ")\n",
    "\n",
    "print(\"\"\"\n",
    "    Key: {}\n",
    "    Matched: {}\n",
    "    Modified: {}\n",
    "    ------------\n",
    "    \"\"\".format(\"Insertions\", update.matched_count, update.modified_count), flush=True)"
   ]
  },
  {
   "cell_type": "code",
   "execution_count": 170,
   "id": "22c49fd9",
   "metadata": {},
   "outputs": [
    {
     "name": "stdout",
     "output_type": "stream",
     "text": [
      "\n",
      "    Key: Files\n",
      "    Matched: 60996\n",
      "    Modified: 60996\n",
      "    ------------\n",
      "    \n"
     ]
    }
   ],
   "source": [
    "# change the data type of \"Files\" in gitdata into integer\n",
    "update = gitData.update_many(\n",
    "    {},\n",
    "    [{\"$set\": {\n",
    "        \"File.Commit_change.Files\": {\n",
    "            \"$toInt\":\"$File.Commit_change.Files\" } \n",
    "        }\n",
    "    }\n",
    "]\n",
    ")\n",
    "\n",
    "print(\"\"\"\n",
    "    Key: {}\n",
    "    Matched: {}\n",
    "    Modified: {}\n",
    "    ------------\n",
    "    \"\"\".format(\"Files\", update.matched_count, update.modified_count), flush=True)"
   ]
  },
  {
   "cell_type": "code",
   "execution_count": 171,
   "id": "396de219",
   "metadata": {},
   "outputs": [
    {
     "name": "stdout",
     "output_type": "stream",
     "text": [
      "\n",
      "    Key: Lines\n",
      "    Matched: 60996\n",
      "    Modified: 60996\n",
      "    ------------\n",
      "    \n"
     ]
    }
   ],
   "source": [
    "# change the data type of \"Lines\" in gitdata into integer\n",
    "update = gitData.update_many(\n",
    "    {},\n",
    "    [{\"$set\": {\n",
    "        \"File.Commit_change.Lines\": {\n",
    "            \"$toInt\":\"$File.Commit_change.Lines\" } \n",
    "        }\n",
    "    }\n",
    "]\n",
    ")\n",
    "\n",
    "print(\"\"\"\n",
    "    Key: {}\n",
    "    Matched: {}\n",
    "    Modified: {}\n",
    "    ------------\n",
    "    \"\"\".format(\"Lines\", update.matched_count, update.modified_count), flush=True)"
   ]
  },
  {
   "cell_type": "code",
   "execution_count": 172,
   "id": "f071af1d",
   "metadata": {},
   "outputs": [
    {
     "name": "stdout",
     "output_type": "stream",
     "text": [
      "\n",
      "    Key: Deleted Lines\n",
      "    Matched: 60996\n",
      "    Modified: 60996\n",
      "    ------------\n",
      "    \n"
     ]
    }
   ],
   "source": [
    "# change the data type of \"Deleted Lines\" in gitdata into integer\n",
    "update = gitData.update_many(\n",
    "    {},\n",
    "    [{\"$set\": {\n",
    "        \"Code_change.Diff.Diff_parse.Deleted_lines\": {\n",
    "            \"$toInt\":\"$Code_change.Diff.Diff_parse.Deleted_lines\" } \n",
    "        }\n",
    "    }\n",
    "]\n",
    ")\n",
    "\n",
    "print(\"\"\"\n",
    "    Key: {}\n",
    "    Matched: {}\n",
    "    Modified: {}\n",
    "    ------------\n",
    "    \"\"\".format(\"Deleted Lines\", update.matched_count, update.modified_count), flush=True)"
   ]
  },
  {
   "cell_type": "markdown",
   "id": "36ef92a6",
   "metadata": {},
   "source": [
    "### Descriptive Analysis of GitData"
   ]
  },
  {
   "cell_type": "code",
   "execution_count": 37,
   "id": "db940ab1",
   "metadata": {},
   "outputs": [],
   "source": [
    "# let's connect to the localhost\n",
    "client = MongoClient()\n",
    "\n",
    "# let's create a database \n",
    "db = client.github\n",
    "\n",
    "# collection for git data\n",
    "gitData = db.gitData"
   ]
  },
  {
   "cell_type": "code",
   "execution_count": 110,
   "id": "af71b41a",
   "metadata": {},
   "outputs": [],
   "source": [
    "# spark_mongo_gitData.stop()"
   ]
  },
  {
   "cell_type": "code",
   "execution_count": 38,
   "id": "d5e6fe4f",
   "metadata": {},
   "outputs": [],
   "source": [
    "import findspark\n",
    "findspark.init()\n",
    "findspark.add_packages(r\"org.mongodb.spark:mongo-spark-connector_2.12:3.0.1\")"
   ]
  },
  {
   "cell_type": "code",
   "execution_count": 39,
   "id": "396d3575",
   "metadata": {},
   "outputs": [
    {
     "data": {
      "text/html": [
       "\n",
       "            <div>\n",
       "                <p><b>SparkSession - in-memory</b></p>\n",
       "                \n",
       "        <div>\n",
       "            <p><b>SparkContext</b></p>\n",
       "\n",
       "            <p><a href=\"http://192.168.1.152:4040\">Spark UI</a></p>\n",
       "\n",
       "            <dl>\n",
       "              <dt>Version</dt>\n",
       "                <dd><code>v3.0.1</code></dd>\n",
       "              <dt>Master</dt>\n",
       "                <dd><code>local[*]</code></dd>\n",
       "              <dt>AppName</dt>\n",
       "                <dd><code>gitData</code></dd>\n",
       "            </dl>\n",
       "        </div>\n",
       "        \n",
       "            </div>\n",
       "        "
      ],
      "text/plain": [
       "<pyspark.sql.session.SparkSession at 0x7fdbf28ece80>"
      ]
     },
     "execution_count": 39,
     "metadata": {},
     "output_type": "execute_result"
    }
   ],
   "source": [
    "### connect to spark\n",
    "from pyspark.sql import SparkSession\n",
    "# Session with Mongo\n",
    "spark_mongo_gitData = SparkSession \\\n",
    "    .builder \\\n",
    "    .appName(\"gitData\") \\\n",
    "    .config(\"spark.mongodb.input.uri\", \"mongodb://127.0.0.1:27017/github.gitData\") \\\n",
    "    .config(\"spark.mongodb.output.uri\", \"mongodb://127.0.0.1:27017/github.gitData\") \\\n",
    "    .config('spark.jars.packages', 'org.mongodb.spark:mongo-spark-connector_2.12:3.0.1') \\\n",
    "    .getOrCreate()\n",
    "spark_mongo_gitData.newSession()"
   ]
  },
  {
   "cell_type": "code",
   "execution_count": 40,
   "id": "7b559c5f",
   "metadata": {},
   "outputs": [
    {
     "name": "stderr",
     "output_type": "stream",
     "text": [
      "[Stage 7:>                                                          (0 + 1) / 1]\r"
     ]
    },
    {
     "name": "stdout",
     "output_type": "stream",
     "text": [
      "root\n",
      " |-- Branch: struct (nullable = true)\n",
      " |    |-- Branches: string (nullable = true)\n",
      " |    |-- In_main_branch: string (nullable = true)\n",
      " |    |-- Merge: string (nullable = true)\n",
      " |    |-- Parents: string (nullable = true)\n",
      " |-- Code_change: struct (nullable = true)\n",
      " |    |-- Diff: struct (nullable = true)\n",
      " |    |    |-- Diff: string (nullable = true)\n",
      " |    |    |-- Diff_parse: struct (nullable = true)\n",
      " |    |    |    |-- Deleted_lines: integer (nullable = true)\n",
      " |    |    |    |-- Diff_parsed: string (nullable = true)\n",
      " |    |-- Path: struct (nullable = true)\n",
      " |    |    |-- new_path: string (nullable = true)\n",
      " |    |    |-- old_path: string (nullable = true)\n",
      " |    |-- Source_code: struct (nullable = true)\n",
      " |    |    |-- Source_code: string (nullable = true)\n",
      " |    |    |-- Source_code_before: string (nullable = true)\n",
      " |-- Commit: struct (nullable = true)\n",
      " |    |-- hash: string (nullable = true)\n",
      " |    |-- Msg: struct (nullable = true)\n",
      " |    |    |-- msg: string (nullable = true)\n",
      " |    |    |-- Author: struct (nullable = true)\n",
      " |    |    |    |-- Author_name: string (nullable = true)\n",
      " |    |    |    |-- Author_date: timestamp (nullable = true)\n",
      " |    |    |    |-- Author_timezone: integer (nullable = true)\n",
      " |    |-- Committer: struct (nullable = true)\n",
      " |    |    |-- Committer_name: string (nullable = true)\n",
      " |    |    |-- Committer_date: timestamp (nullable = true)\n",
      " |    |    |-- Committer_timezone: integer (nullable = true)\n",
      " |-- Complexity: double (nullable = true)\n",
      " |-- File: struct (nullable = true)\n",
      " |    |-- Filename: string (nullable = true)\n",
      " |    |-- Change_type: string (nullable = true)\n",
      " |    |-- Commit_change: struct (nullable = true)\n",
      " |    |    |-- Deletions: integer (nullable = true)\n",
      " |    |    |-- Insertions: integer (nullable = true)\n",
      " |    |    |-- Files: integer (nullable = true)\n",
      " |    |    |-- Lines: integer (nullable = true)\n",
      " |-- Nloc: double (nullable = true)\n",
      " |-- Project_name: struct (nullable = true)\n",
      " |    |-- Project_type: string (nullable = true)\n",
      " |    |-- Project_name: string (nullable = true)\n",
      " |-- Token_count: double (nullable = true)\n",
      " |-- _id: struct (nullable = true)\n",
      " |    |-- oid: string (nullable = true)\n",
      "\n"
     ]
    },
    {
     "name": "stderr",
     "output_type": "stream",
     "text": [
      "22/07/22 10:56:39 WARN MongoInferSchema: Field 'Diff' contains conflicting types converting to StringType\n",
      "22/07/22 10:56:39 WARN MongoInferSchema: Field 'Diff_parsed' contains conflicting types converting to StringType\n",
      "22/07/22 10:56:39 WARN MongoInferSchema: Field 'new_path' contains conflicting types converting to StringType\n",
      "22/07/22 10:56:39 WARN MongoInferSchema: Field 'old_path' contains conflicting types converting to StringType\n",
      "22/07/22 10:56:39 WARN MongoInferSchema: Field 'Source_code' contains conflicting types converting to StringType\n",
      "22/07/22 10:56:39 WARN MongoInferSchema: Field 'Source_code_before' contains conflicting types converting to StringType\n"
     ]
    }
   ],
   "source": [
    "# load data from MongoDB\n",
    "df_gitData = spark_mongo_gitData.read.format(\"mongo\").load()\n",
    "\n",
    "df_gitData.printSchema()"
   ]
  },
  {
   "cell_type": "code",
   "execution_count": 78,
   "id": "94dffc59",
   "metadata": {},
   "outputs": [
    {
     "name": "stderr",
     "output_type": "stream",
     "text": [
      "                                                                                \r"
     ]
    }
   ],
   "source": [
    "# let's inspect data on Author \n",
    "df_gitData.createOrReplaceTempView('author')\n",
    "df1 = spark_mongo_gitData.sql(\n",
    "    \"\"\"\n",
    "    SELECT Commit.Msg.Author.Author_date,Project_name.Project_type\n",
    "    FROM author\n",
    "    ORDER BY Project_name.Project_type DESC\n",
    "    \"\"\").toPandas()"
   ]
  },
  {
   "cell_type": "code",
   "execution_count": 80,
   "id": "6c70fc15",
   "metadata": {},
   "outputs": [
    {
     "data": {
      "text/plain": [
       "Text(0.5, 1.0, 'Number of Pytorch and TensorFlow Projects')"
      ]
     },
     "execution_count": 80,
     "metadata": {},
     "output_type": "execute_result"
    },
    {
     "data": {
      "image/png": "[encoded data removed]",
      "text/plain": [
       "<Figure size 216x288 with 1 Axes>"
      ]
     },
     "metadata": {
      "needs_background": "light"
     },
     "output_type": "display_data"
    }
   ],
   "source": [
    "# visualise number of Pytorch and TensorFlow projects\n",
    "plt.figure(figsize=(3,4))\n",
    "plt.hist(df1[\"Project_type\"],bins=3)\n",
    "plt.title(\"Number of Pytorch and TensorFlow Projects\") "
   ]
  },
  {
   "cell_type": "code",
   "execution_count": 131,
   "id": "954f3d18",
   "metadata": {},
   "outputs": [
    {
     "data": {
      "image/png": "[encoded data removed]",
      "text/plain": [
       "<Figure size 1080x360 with 2 Axes>"
      ]
     },
     "metadata": {
      "needs_background": "light"
     },
     "output_type": "display_data"
    }
   ],
   "source": [
    "# visualise number of projects over time\n",
    "tensor_df1 = df1.loc[df1[\"Project_type\"]==\"tensorflow\",]\n",
    "torch_df1 = df1.loc[df1[\"Project_type\"]==\"pytorch\",]\n",
    "\n",
    "plt.figure(figsize=(15,5))\n",
    "plt.subplot(1,2,1)\n",
    "plt.hist(tensor_df1[\"Author_date\"], bins=100, color=\"blue\")\n",
    "plt.xlabel(\"Author_date\")\n",
    "plt.ylabel(\"Number of TensorFlow projects\")\n",
    "\n",
    "plt.subplot(1,2,2)\n",
    "plt.hist(torch_df1[\"Author_date\"], bins=100, color=\"orange\")\n",
    "plt.xlabel(\"Author_date\")\n",
    "plt.ylabel(\"Number of PyTorch projects\")\n",
    "plt.tight_layout()\n",
    "plt.show()\n"
   ]
  },
  {
   "cell_type": "code",
   "execution_count": 136,
   "id": "0aead206",
   "metadata": {},
   "outputs": [
    {
     "name": "stderr",
     "output_type": "stream",
     "text": [
      "                                                                                \r"
     ]
    }
   ],
   "source": [
    "# inspect the number of committers over time\n",
    "df_gitData.createOrReplaceTempView('committers')\n",
    "df2 = spark_mongo_gitData.sql(\n",
    "    \"\"\"\n",
    "    SELECT Commit.Committer.Committer_date,Project_name.Project_type, Commit.Committer.Committer_name\n",
    "    FROM committers\n",
    "    ORDER BY Project_name.Project_type DESC\n",
    "    \"\"\").toPandas()"
   ]
  },
  {
   "cell_type": "code",
   "execution_count": 141,
   "id": "bbe5ba4b",
   "metadata": {},
   "outputs": [
    {
     "data": {
      "image/png": "[encoded data removed]",
      "text/plain": [
       "<Figure size 1080x360 with 2 Axes>"
      ]
     },
     "metadata": {
      "needs_background": "light"
     },
     "output_type": "display_data"
    }
   ],
   "source": [
    "# visualise number of committers over time\n",
    "tensor_df2 = df2.loc[df2[\"Project_type\"]==\"tensorflow\",]\n",
    "torch_df2 = df2.loc[df2[\"Project_type\"]==\"pytorch\",]\n",
    "\n",
    "plt.figure(figsize=(15,5))\n",
    "plt.subplot(1,2,1)\n",
    "plt.hist(tensor_df2[\"Committer_date\"], bins=100, color=\"blue\")\n",
    "plt.xlabel(\"Committer_date\")\n",
    "plt.ylabel(\"Number of TensorFlow projects\")\n",
    "\n",
    "plt.subplot(1,2,2)\n",
    "plt.hist(torch_df2[\"Committer_date\"], bins=100, color=\"orange\")\n",
    "plt.xlabel(\"Committer_date\")\n",
    "plt.ylabel(\"Number of PyTorch projects\")\n",
    "plt.tight_layout()\n",
    "plt.show()"
   ]
  },
  {
   "cell_type": "code",
   "execution_count": 62,
   "id": "741debf7",
   "metadata": {},
   "outputs": [
    {
     "name": "stderr",
     "output_type": "stream",
     "text": [
      "                                                                                \r"
     ]
    },
    {
     "data": {
      "text/html": [
       "<div>\n",
       "<style scoped>\n",
       "    .dataframe tbody tr th:only-of-type {\n",
       "        vertical-align: middle;\n",
       "    }\n",
       "\n",
       "    .dataframe tbody tr th {\n",
       "        vertical-align: top;\n",
       "    }\n",
       "\n",
       "    .dataframe thead th {\n",
       "        text-align: right;\n",
       "    }\n",
       "</style>\n",
       "<table border=\"1\" class=\"dataframe\">\n",
       "  <thead>\n",
       "    <tr style=\"text-align: right;\">\n",
       "      <th></th>\n",
       "      <th>Author_name</th>\n",
       "      <th>Project_type</th>\n",
       "    </tr>\n",
       "  </thead>\n",
       "  <tbody>\n",
       "    <tr>\n",
       "      <th>0</th>\n",
       "      <td>Jane Xu</td>\n",
       "      <td>pytorch</td>\n",
       "    </tr>\n",
       "    <tr>\n",
       "      <th>1</th>\n",
       "      <td>Vitaly Fedyunin</td>\n",
       "      <td>pytorch</td>\n",
       "    </tr>\n",
       "    <tr>\n",
       "      <th>2</th>\n",
       "      <td>Jeffrey Wan</td>\n",
       "      <td>pytorch</td>\n",
       "    </tr>\n",
       "    <tr>\n",
       "      <th>3</th>\n",
       "      <td>Peter Bell</td>\n",
       "      <td>pytorch</td>\n",
       "    </tr>\n",
       "    <tr>\n",
       "      <th>4</th>\n",
       "      <td>Brian Hirsh</td>\n",
       "      <td>pytorch</td>\n",
       "    </tr>\n",
       "    <tr>\n",
       "      <th>...</th>\n",
       "      <td>...</td>\n",
       "      <td>...</td>\n",
       "    </tr>\n",
       "    <tr>\n",
       "      <th>1106</th>\n",
       "      <td>Jianwei Xie</td>\n",
       "      <td>tensorflow</td>\n",
       "    </tr>\n",
       "    <tr>\n",
       "      <th>1107</th>\n",
       "      <td>Alan Kelly</td>\n",
       "      <td>tensorflow</td>\n",
       "    </tr>\n",
       "    <tr>\n",
       "      <th>1108</th>\n",
       "      <td>Martin Wicke</td>\n",
       "      <td>tensorflow</td>\n",
       "    </tr>\n",
       "    <tr>\n",
       "      <th>1109</th>\n",
       "      <td>Uday Bondhugula</td>\n",
       "      <td>tensorflow</td>\n",
       "    </tr>\n",
       "    <tr>\n",
       "      <th>1110</th>\n",
       "      <td>Sean Silva</td>\n",
       "      <td>tensorflow</td>\n",
       "    </tr>\n",
       "  </tbody>\n",
       "</table>\n",
       "<p>1111 rows × 2 columns</p>\n",
       "</div>"
      ],
      "text/plain": [
       "          Author_name Project_type\n",
       "0             Jane Xu      pytorch\n",
       "1     Vitaly Fedyunin      pytorch\n",
       "2         Jeffrey Wan      pytorch\n",
       "3          Peter Bell      pytorch\n",
       "4         Brian Hirsh      pytorch\n",
       "...               ...          ...\n",
       "1106      Jianwei Xie   tensorflow\n",
       "1107       Alan Kelly   tensorflow\n",
       "1108     Martin Wicke   tensorflow\n",
       "1109  Uday Bondhugula   tensorflow\n",
       "1110       Sean Silva   tensorflow\n",
       "\n",
       "[1111 rows x 2 columns]"
      ]
     },
     "execution_count": 62,
     "metadata": {},
     "output_type": "execute_result"
    }
   ],
   "source": [
    "# filter out author names \n",
    "df_gitData.createOrReplaceTempView('author_names')\n",
    "\n",
    "# filter out pytorch projects and their author timezone that \n",
    "author_names = spark_mongo_gitData.sql(\n",
    "    \"\"\"\n",
    "    SELECT Commit.Msg.Author.Author_name, Project_name.Project_type\n",
    "    FROM author_names\n",
    "    \"\"\"\n",
    ").toPandas()\n",
    "\n",
    "author_names_all = author_names.copy()\n",
    "\n",
    "#drop duplicates of author_names\n",
    "author_names_all.drop_duplicates(inplace=True, ignore_index=True)\n",
    "author_names_all"
   ]
  },
  {
   "cell_type": "code",
   "execution_count": 63,
   "id": "d6d83abc",
   "metadata": {},
   "outputs": [
    {
     "data": {
      "text/plain": [
       "1102"
      ]
     },
     "execution_count": 63,
     "metadata": {},
     "output_type": "execute_result"
    }
   ],
   "source": [
    "# there are a total of 1102 authors\n",
    "author_names_all['Author_name'].nunique()"
   ]
  },
  {
   "cell_type": "code",
   "execution_count": 64,
   "id": "8448146f",
   "metadata": {},
   "outputs": [
    {
     "data": {
      "text/html": [
       "<div>\n",
       "<style scoped>\n",
       "    .dataframe tbody tr th:only-of-type {\n",
       "        vertical-align: middle;\n",
       "    }\n",
       "\n",
       "    .dataframe tbody tr th {\n",
       "        vertical-align: top;\n",
       "    }\n",
       "\n",
       "    .dataframe thead th {\n",
       "        text-align: right;\n",
       "    }\n",
       "</style>\n",
       "<table border=\"1\" class=\"dataframe\">\n",
       "  <thead>\n",
       "    <tr style=\"text-align: right;\">\n",
       "      <th></th>\n",
       "      <th>Author_name</th>\n",
       "    </tr>\n",
       "    <tr>\n",
       "      <th>Author_name</th>\n",
       "      <th></th>\n",
       "    </tr>\n",
       "  </thead>\n",
       "  <tbody>\n",
       "    <tr>\n",
       "      <th>Sean Silva</th>\n",
       "      <td>2</td>\n",
       "    </tr>\n",
       "    <tr>\n",
       "      <th>Sergii Khomenko</th>\n",
       "      <td>2</td>\n",
       "    </tr>\n",
       "    <tr>\n",
       "      <th>rui</th>\n",
       "      <td>2</td>\n",
       "    </tr>\n",
       "    <tr>\n",
       "      <th>frgfm</th>\n",
       "      <td>2</td>\n",
       "    </tr>\n",
       "    <tr>\n",
       "      <th>Tao Xu</th>\n",
       "      <td>2</td>\n",
       "    </tr>\n",
       "    <tr>\n",
       "      <th>Jim</th>\n",
       "      <td>2</td>\n",
       "    </tr>\n",
       "    <tr>\n",
       "      <th>Alexander Grund</th>\n",
       "      <td>2</td>\n",
       "    </tr>\n",
       "    <tr>\n",
       "      <th>=</th>\n",
       "      <td>2</td>\n",
       "    </tr>\n",
       "    <tr>\n",
       "      <th>Michael Melesse</th>\n",
       "      <td>2</td>\n",
       "    </tr>\n",
       "    <tr>\n",
       "      <th>Shauheen</th>\n",
       "      <td>1</td>\n",
       "    </tr>\n",
       "  </tbody>\n",
       "</table>\n",
       "</div>"
      ],
      "text/plain": [
       "                 Author_name\n",
       "Author_name                 \n",
       "Sean Silva                 2\n",
       "Sergii Khomenko            2\n",
       "rui                        2\n",
       "frgfm                      2\n",
       "Tao Xu                     2\n",
       "Jim                        2\n",
       "Alexander Grund            2\n",
       "=                          2\n",
       "Michael Melesse            2\n",
       "Shauheen                   1"
      ]
     },
     "execution_count": 64,
     "metadata": {},
     "output_type": "execute_result"
    }
   ],
   "source": [
    "author_names_n = author_names_all.groupby(['Author_name'])['Author_name'].size().sort_values(ascending=False)\n",
    "author_names_df = pd.DataFrame(author_names_n)\n",
    "author_names_df[:10]\n",
    "# there are 9 out of 1102 people who are in both types of projects: tensorflow and pytorch "
   ]
  },
  {
   "cell_type": "code",
   "execution_count": 66,
   "id": "281053bd",
   "metadata": {},
   "outputs": [
    {
     "data": {
      "text/html": [
       "<div>\n",
       "<style scoped>\n",
       "    .dataframe tbody tr th:only-of-type {\n",
       "        vertical-align: middle;\n",
       "    }\n",
       "\n",
       "    .dataframe tbody tr th {\n",
       "        vertical-align: top;\n",
       "    }\n",
       "\n",
       "    .dataframe thead th {\n",
       "        text-align: right;\n",
       "    }\n",
       "</style>\n",
       "<table border=\"1\" class=\"dataframe\">\n",
       "  <thead>\n",
       "    <tr style=\"text-align: right;\">\n",
       "      <th></th>\n",
       "      <th>Author_name</th>\n",
       "      <th>size</th>\n",
       "    </tr>\n",
       "  </thead>\n",
       "  <tbody>\n",
       "    <tr>\n",
       "      <th>2</th>\n",
       "      <td>A. Unique TensorFlower</td>\n",
       "      <td>7339</td>\n",
       "    </tr>\n",
       "    <tr>\n",
       "      <th>594</th>\n",
       "      <td>Nikita Shulga</td>\n",
       "      <td>1918</td>\n",
       "    </tr>\n",
       "    <tr>\n",
       "      <th>674</th>\n",
       "      <td>Richard Barnes</td>\n",
       "      <td>1520</td>\n",
       "    </tr>\n",
       "    <tr>\n",
       "      <th>630</th>\n",
       "      <td>Peter Bell</td>\n",
       "      <td>1353</td>\n",
       "    </tr>\n",
       "    <tr>\n",
       "      <th>197</th>\n",
       "      <td>David Majnemer</td>\n",
       "      <td>1301</td>\n",
       "    </tr>\n",
       "    <tr>\n",
       "      <th>538</th>\n",
       "      <td>Mehdi Amini</td>\n",
       "      <td>1031</td>\n",
       "    </tr>\n",
       "    <tr>\n",
       "      <th>353</th>\n",
       "      <td>Jacques Pienaar</td>\n",
       "      <td>1021</td>\n",
       "    </tr>\n",
       "    <tr>\n",
       "      <th>368</th>\n",
       "      <td>Jane Xu</td>\n",
       "      <td>1010</td>\n",
       "    </tr>\n",
       "    <tr>\n",
       "      <th>237</th>\n",
       "      <td>Eli Uriegas</td>\n",
       "      <td>867</td>\n",
       "    </tr>\n",
       "    <tr>\n",
       "      <th>350</th>\n",
       "      <td>JackCaoG</td>\n",
       "      <td>824</td>\n",
       "    </tr>\n",
       "  </tbody>\n",
       "</table>\n",
       "</div>"
      ],
      "text/plain": [
       "                Author_name  size\n",
       "2    A. Unique TensorFlower  7339\n",
       "594           Nikita Shulga  1918\n",
       "674          Richard Barnes  1520\n",
       "630              Peter Bell  1353\n",
       "197          David Majnemer  1301\n",
       "538             Mehdi Amini  1031\n",
       "353         Jacques Pienaar  1021\n",
       "368                 Jane Xu  1010\n",
       "237             Eli Uriegas   867\n",
       "350                JackCaoG   824"
      ]
     },
     "execution_count": 66,
     "metadata": {},
     "output_type": "execute_result"
    }
   ],
   "source": [
    "# calculate top 10 author\n",
    "author_names.groupby(['Author_name'], as_index = False)['Author_name'].size().sort_values(ascending = False, by = 'size')[:10]"
   ]
  },
  {
   "cell_type": "code",
   "execution_count": 142,
   "id": "083b3129",
   "metadata": {},
   "outputs": [
    {
     "data": {
      "text/html": [
       "<div>\n",
       "<style scoped>\n",
       "    .dataframe tbody tr th:only-of-type {\n",
       "        vertical-align: middle;\n",
       "    }\n",
       "\n",
       "    .dataframe tbody tr th {\n",
       "        vertical-align: top;\n",
       "    }\n",
       "\n",
       "    .dataframe thead th {\n",
       "        text-align: right;\n",
       "    }\n",
       "</style>\n",
       "<table border=\"1\" class=\"dataframe\">\n",
       "  <thead>\n",
       "    <tr style=\"text-align: right;\">\n",
       "      <th></th>\n",
       "      <th>Committer_name</th>\n",
       "      <th>size</th>\n",
       "    </tr>\n",
       "  </thead>\n",
       "  <tbody>\n",
       "    <tr>\n",
       "      <th>114</th>\n",
       "      <td>TensorFlower Gardener</td>\n",
       "      <td>28042</td>\n",
       "    </tr>\n",
       "    <tr>\n",
       "      <th>34</th>\n",
       "      <td>Facebook GitHub Bot</td>\n",
       "      <td>24869</td>\n",
       "    </tr>\n",
       "    <tr>\n",
       "      <th>39</th>\n",
       "      <td>GitHub</td>\n",
       "      <td>4587</td>\n",
       "    </tr>\n",
       "    <tr>\n",
       "      <th>152</th>\n",
       "      <td>jagadeesh</td>\n",
       "      <td>318</td>\n",
       "    </tr>\n",
       "    <tr>\n",
       "      <th>99</th>\n",
       "      <td>Samuel Marks</td>\n",
       "      <td>205</td>\n",
       "    </tr>\n",
       "    <tr>\n",
       "      <th>83</th>\n",
       "      <td>Nikhil Kulkarni</td>\n",
       "      <td>138</td>\n",
       "    </tr>\n",
       "    <tr>\n",
       "      <th>163</th>\n",
       "      <td>lxning</td>\n",
       "      <td>138</td>\n",
       "    </tr>\n",
       "    <tr>\n",
       "      <th>116</th>\n",
       "      <td>Thomas Li</td>\n",
       "      <td>129</td>\n",
       "    </tr>\n",
       "    <tr>\n",
       "      <th>144</th>\n",
       "      <td>facebook-github-bot</td>\n",
       "      <td>128</td>\n",
       "    </tr>\n",
       "    <tr>\n",
       "      <th>19</th>\n",
       "      <td>Ben Barsdell</td>\n",
       "      <td>101</td>\n",
       "    </tr>\n",
       "  </tbody>\n",
       "</table>\n",
       "</div>"
      ],
      "text/plain": [
       "            Committer_name   size\n",
       "114  TensorFlower Gardener  28042\n",
       "34     Facebook GitHub Bot  24869\n",
       "39                  GitHub   4587\n",
       "152              jagadeesh    318\n",
       "99            Samuel Marks    205\n",
       "83         Nikhil Kulkarni    138\n",
       "163                 lxning    138\n",
       "116              Thomas Li    129\n",
       "144    facebook-github-bot    128\n",
       "19            Ben Barsdell    101"
      ]
     },
     "execution_count": 142,
     "metadata": {},
     "output_type": "execute_result"
    }
   ],
   "source": [
    "# calculate top 10 committer\n",
    "df2.groupby(['Committer_name'], as_index = False)['Committer_name'].size().sort_values(ascending = False, by = 'size')[:10]"
   ]
  },
  {
   "cell_type": "code",
   "execution_count": 69,
   "id": "897125a6",
   "metadata": {},
   "outputs": [
    {
     "name": "stderr",
     "output_type": "stream",
     "text": [
      "                                                                                \r"
     ]
    },
    {
     "data": {
      "text/html": [
       "<div>\n",
       "<style scoped>\n",
       "    .dataframe tbody tr th:only-of-type {\n",
       "        vertical-align: middle;\n",
       "    }\n",
       "\n",
       "    .dataframe tbody tr th {\n",
       "        vertical-align: top;\n",
       "    }\n",
       "\n",
       "    .dataframe thead th {\n",
       "        text-align: right;\n",
       "    }\n",
       "</style>\n",
       "<table border=\"1\" class=\"dataframe\">\n",
       "  <thead>\n",
       "    <tr style=\"text-align: right;\">\n",
       "      <th></th>\n",
       "      <th>Author_timezone</th>\n",
       "    </tr>\n",
       "  </thead>\n",
       "  <tbody>\n",
       "    <tr>\n",
       "      <th>0</th>\n",
       "      <td>28800</td>\n",
       "    </tr>\n",
       "    <tr>\n",
       "      <th>1</th>\n",
       "      <td>28800</td>\n",
       "    </tr>\n",
       "    <tr>\n",
       "      <th>2</th>\n",
       "      <td>28800</td>\n",
       "    </tr>\n",
       "    <tr>\n",
       "      <th>3</th>\n",
       "      <td>28800</td>\n",
       "    </tr>\n",
       "    <tr>\n",
       "      <th>4</th>\n",
       "      <td>28800</td>\n",
       "    </tr>\n",
       "    <tr>\n",
       "      <th>...</th>\n",
       "      <td>...</td>\n",
       "    </tr>\n",
       "    <tr>\n",
       "      <th>30636</th>\n",
       "      <td>-39600</td>\n",
       "    </tr>\n",
       "    <tr>\n",
       "      <th>30637</th>\n",
       "      <td>-39600</td>\n",
       "    </tr>\n",
       "    <tr>\n",
       "      <th>30638</th>\n",
       "      <td>-39600</td>\n",
       "    </tr>\n",
       "    <tr>\n",
       "      <th>30639</th>\n",
       "      <td>-39600</td>\n",
       "    </tr>\n",
       "    <tr>\n",
       "      <th>30640</th>\n",
       "      <td>-39600</td>\n",
       "    </tr>\n",
       "  </tbody>\n",
       "</table>\n",
       "<p>30641 rows × 1 columns</p>\n",
       "</div>"
      ],
      "text/plain": [
       "       Author_timezone\n",
       "0                28800\n",
       "1                28800\n",
       "2                28800\n",
       "3                28800\n",
       "4                28800\n",
       "...                ...\n",
       "30636           -39600\n",
       "30637           -39600\n",
       "30638           -39600\n",
       "30639           -39600\n",
       "30640           -39600\n",
       "\n",
       "[30641 rows x 1 columns]"
      ]
     },
     "execution_count": 69,
     "metadata": {},
     "output_type": "execute_result"
    }
   ],
   "source": [
    "# Inspect author timezone of tensorflow projects\n",
    "df_gitData.createOrReplaceTempView('tensorflow')\n",
    "\n",
    "# filter out tensorflow projects and their author timezone \n",
    "tensorflow_timezone = spark_mongo_gitData.sql(\n",
    "    \"\"\"\n",
    "    SELECT Commit.Msg.Author.Author_timezone\n",
    "    FROM tensorflow\n",
    "    WHERE Project_name.Project_type = \"tensorflow\"\n",
    "    ORDER BY Commit.Msg.Author.Author_timezone DESC\n",
    "    \"\"\"\n",
    ").toPandas()\n",
    "\n",
    "tensorflow_timezone"
   ]
  },
  {
   "cell_type": "code",
   "execution_count": 171,
   "id": "03cbeae5",
   "metadata": {},
   "outputs": [
    {
     "data": {
      "image/png": "[encoded data removed]",
      "text/plain": [
       "<Figure size 720x720 with 1 Axes>"
      ]
     },
     "metadata": {},
     "output_type": "display_data"
    }
   ],
   "source": [
    "#plot the pie chart for tensorflow author_timezone project\n",
    "import matplotlib.pyplot as plt\n",
    "timezone_grouped = tensorflow_timezone.groupby(['Author_timezone'])['Author_timezone'].size().sort_values(ascending=False) \n",
    "df_tensor_timezone = pd.DataFrame(timezone_grouped)\n",
    "#pick the top 5 timezones\n",
    "df_tensor_timezone_filtered = df_tensor_timezone['Author_timezone'].nlargest(n=5)\n",
    "#visulise the data\n",
    "explode = (0.01, 0.01, 0.01, 0.01, 0.01)\n",
    "labels = '25200', '28800', '14400', '0', '-7200'\n",
    "colors = ['lightblue', 'orange', '#DD7596', '#8EB897', 'peachpuff']\n",
    "ax = df_tensor_timezone_filtered.plot(y='Author_timezone',\n",
    "                             kind = 'pie',\n",
    "                            figsize=(10, 10),\n",
    "                            title = 'Top 5 author timezone for TensorFlow project',\n",
    "                            autopct = \"%.2f%%\",\n",
    "                            ylabel = '',\n",
    "                            labeldistance = 1.3,\n",
    "                            explode = explode,\n",
    "                            labels = labels,\n",
    "                            colors = colors)\n",
    "ax.legend(bbox_to_anchor=(1, 1.02), loc='upper left')\n",
    "plt.show()"
   ]
  },
  {
   "cell_type": "code",
   "execution_count": 144,
   "id": "c6c99a59",
   "metadata": {},
   "outputs": [
    {
     "name": "stderr",
     "output_type": "stream",
     "text": [
      "                                                                                \r"
     ]
    },
    {
     "data": {
      "text/html": [
       "<div>\n",
       "<style scoped>\n",
       "    .dataframe tbody tr th:only-of-type {\n",
       "        vertical-align: middle;\n",
       "    }\n",
       "\n",
       "    .dataframe tbody tr th {\n",
       "        vertical-align: top;\n",
       "    }\n",
       "\n",
       "    .dataframe thead th {\n",
       "        text-align: right;\n",
       "    }\n",
       "</style>\n",
       "<table border=\"1\" class=\"dataframe\">\n",
       "  <thead>\n",
       "    <tr style=\"text-align: right;\">\n",
       "      <th></th>\n",
       "      <th>Author_timezone</th>\n",
       "    </tr>\n",
       "  </thead>\n",
       "  <tbody>\n",
       "    <tr>\n",
       "      <th>0</th>\n",
       "      <td>28800</td>\n",
       "    </tr>\n",
       "    <tr>\n",
       "      <th>1</th>\n",
       "      <td>28800</td>\n",
       "    </tr>\n",
       "    <tr>\n",
       "      <th>2</th>\n",
       "      <td>28800</td>\n",
       "    </tr>\n",
       "    <tr>\n",
       "      <th>3</th>\n",
       "      <td>28800</td>\n",
       "    </tr>\n",
       "    <tr>\n",
       "      <th>4</th>\n",
       "      <td>28800</td>\n",
       "    </tr>\n",
       "    <tr>\n",
       "      <th>...</th>\n",
       "      <td>...</td>\n",
       "    </tr>\n",
       "    <tr>\n",
       "      <th>30350</th>\n",
       "      <td>-32400</td>\n",
       "    </tr>\n",
       "    <tr>\n",
       "      <th>30351</th>\n",
       "      <td>-32400</td>\n",
       "    </tr>\n",
       "    <tr>\n",
       "      <th>30352</th>\n",
       "      <td>-32400</td>\n",
       "    </tr>\n",
       "    <tr>\n",
       "      <th>30353</th>\n",
       "      <td>-32400</td>\n",
       "    </tr>\n",
       "    <tr>\n",
       "      <th>30354</th>\n",
       "      <td>-32400</td>\n",
       "    </tr>\n",
       "  </tbody>\n",
       "</table>\n",
       "<p>30355 rows × 1 columns</p>\n",
       "</div>"
      ],
      "text/plain": [
       "       Author_timezone\n",
       "0                28800\n",
       "1                28800\n",
       "2                28800\n",
       "3                28800\n",
       "4                28800\n",
       "...                ...\n",
       "30350           -32400\n",
       "30351           -32400\n",
       "30352           -32400\n",
       "30353           -32400\n",
       "30354           -32400\n",
       "\n",
       "[30355 rows x 1 columns]"
      ]
     },
     "execution_count": 144,
     "metadata": {},
     "output_type": "execute_result"
    }
   ],
   "source": [
    "# inspect timezone of pytorch projects\n",
    "df_gitData.createOrReplaceTempView('pytorch')\n",
    "\n",
    "# filter out pytorch projects and their author timezone that \n",
    "pytorch_timezone = spark_mongo_gitData.sql(\n",
    "    \"\"\"\n",
    "    SELECT Commit.Msg.Author.Author_timezone\n",
    "    FROM pytorch\n",
    "    WHERE Project_name.Project_type = \"pytorch\"\n",
    "    ORDER BY Commit.Msg.Author.Author_timezone DESC\n",
    "    \"\"\"\n",
    ").toPandas()\n",
    "\n",
    "pytorch_timezone"
   ]
  },
  {
   "cell_type": "code",
   "execution_count": 172,
   "id": "7965ee68",
   "metadata": {},
   "outputs": [
    {
     "data": {
      "image/png": "[encoded data removed]",
      "text/plain": [
       "<Figure size 720x720 with 1 Axes>"
      ]
     },
     "metadata": {},
     "output_type": "display_data"
    }
   ],
   "source": [
    "#plot the pie chart for pytorch author_timezone project\n",
    "import matplotlib.pyplot as plt\n",
    "pytorch_grouped = pytorch_timezone.groupby(['Author_timezone'])['Author_timezone'].size().sort_values(ascending=False) \n",
    "df_pytorch_timezone = pd.DataFrame(pytorch_grouped)\n",
    "\n",
    "#pick the top 5 timezones\n",
    "df_pytorch_timezone_filtered = df_pytorch_timezone['Author_timezone'].nlargest(n=5)\n",
    "\n",
    "#visulise the data\n",
    "explode = (0.01, 0.01, 0.01, 0.01, 0.01)\n",
    "labels = '25200', '28800', '-3600', '14400', '-7200'\n",
    "colors = ['lightblue', 'orange', '#DD7596', '#8EB897', 'peachpuff']\n",
    "ax = df_pytorch_timezone_filtered.plot(y='Author_timezone',\n",
    "                             kind = 'pie',\n",
    "                            figsize=(10, 10),\n",
    "                            title = 'Top 5 author timezone for PyTorch project',\n",
    "                            autopct = \"%.2f%%\",\n",
    "                            ylabel = '',\n",
    "                            labeldistance = 1.3,\n",
    "                            explode = explode,\n",
    "                            labels = labels,\n",
    "                            colors = colors)\n",
    "ax.legend(bbox_to_anchor=(1, 1.02), loc='upper left')\n",
    "plt.show()"
   ]
  },
  {
   "cell_type": "code",
   "execution_count": 147,
   "id": "3e13a523",
   "metadata": {},
   "outputs": [
    {
     "name": "stderr",
     "output_type": "stream",
     "text": [
      "                                                                                \r"
     ]
    }
   ],
   "source": [
    "# Complexity of the projects\n",
    "df_gitData.createOrReplaceTempView('complexity')\n",
    "\n",
    "# Run a simple SQL command\n",
    "df5 = spark_mongo_gitData.sql(\n",
    "    \"\"\"\n",
    "    SELECT Complexity,Commit.Committer.Committer_date,Project_name.Project_type\n",
    "    FROM complexity\n",
    "    ORDER BY Project_name.Project_type DESC\n",
    "    \"\"\").toPandas()"
   ]
  },
  {
   "cell_type": "code",
   "execution_count": 148,
   "id": "530f4ef3",
   "metadata": {},
   "outputs": [
    {
     "data": {
      "text/html": [
       "<div>\n",
       "<style scoped>\n",
       "    .dataframe tbody tr th:only-of-type {\n",
       "        vertical-align: middle;\n",
       "    }\n",
       "\n",
       "    .dataframe tbody tr th {\n",
       "        vertical-align: top;\n",
       "    }\n",
       "\n",
       "    .dataframe thead th {\n",
       "        text-align: right;\n",
       "    }\n",
       "</style>\n",
       "<table border=\"1\" class=\"dataframe\">\n",
       "  <thead>\n",
       "    <tr style=\"text-align: right;\">\n",
       "      <th></th>\n",
       "      <th>Complexity</th>\n",
       "      <th>Committer_date</th>\n",
       "      <th>Project_type</th>\n",
       "    </tr>\n",
       "  </thead>\n",
       "  <tbody>\n",
       "    <tr>\n",
       "      <th>0</th>\n",
       "      <td>244.0</td>\n",
       "      <td>2021-10-15</td>\n",
       "      <td>tensorflow</td>\n",
       "    </tr>\n",
       "    <tr>\n",
       "      <th>1</th>\n",
       "      <td>19.0</td>\n",
       "      <td>2021-10-15</td>\n",
       "      <td>tensorflow</td>\n",
       "    </tr>\n",
       "    <tr>\n",
       "      <th>2</th>\n",
       "      <td>4800.0</td>\n",
       "      <td>2021-10-02</td>\n",
       "      <td>tensorflow</td>\n",
       "    </tr>\n",
       "    <tr>\n",
       "      <th>3</th>\n",
       "      <td>237.0</td>\n",
       "      <td>2021-08-02</td>\n",
       "      <td>tensorflow</td>\n",
       "    </tr>\n",
       "    <tr>\n",
       "      <th>6</th>\n",
       "      <td>12.0</td>\n",
       "      <td>2021-12-20</td>\n",
       "      <td>tensorflow</td>\n",
       "    </tr>\n",
       "  </tbody>\n",
       "</table>\n",
       "</div>"
      ],
      "text/plain": [
       "   Complexity Committer_date Project_type\n",
       "0       244.0     2021-10-15   tensorflow\n",
       "1        19.0     2021-10-15   tensorflow\n",
       "2      4800.0     2021-10-02   tensorflow\n",
       "3       237.0     2021-08-02   tensorflow\n",
       "6        12.0     2021-12-20   tensorflow"
      ]
     },
     "execution_count": 148,
     "metadata": {},
     "output_type": "execute_result"
    }
   ],
   "source": [
    "# drop NA in the df\n",
    "df5 = df5[df5['Complexity'].notna()]\n",
    "\n",
    "#remove the seconds in the date\n",
    "df5['Committer_date'] = df5['Committer_date'].apply(lambda t: t.strftime('%Y-%m-%d'))\n",
    "df5.head()"
   ]
  },
  {
   "cell_type": "code",
   "execution_count": 149,
   "id": "fff8a166",
   "metadata": {},
   "outputs": [],
   "source": [
    "#separate the project into pytorch and tensorflow\n",
    "df_torch = df5.loc[df5['Project_type'] == 'pytorch']\n",
    "df_tensor = df5.loc[df5['Project_type'] == 'tensorflow']\n",
    "\n",
    "# Average complexity of the projects per day\n",
    "df_torch_grouped =df_torch.groupby(['Committer_date'],as_index=False).mean()\n",
    "df_tensor_grouped =df_tensor.groupby(['Committer_date'],as_index=False).mean()"
   ]
  },
  {
   "cell_type": "code",
   "execution_count": 150,
   "id": "dbc10bb2",
   "metadata": {},
   "outputs": [
    {
     "data": {
      "text/plain": [
       "Text(0.5, 1.0, 'Average Complexity over time')"
      ]
     },
     "execution_count": 150,
     "metadata": {},
     "output_type": "execute_result"
    },
    {
     "data": {
      "image/png": "[encoded data removed]",
      "text/plain": [
       "<Figure size 1440x504 with 1 Axes>"
      ]
     },
     "metadata": {
      "needs_background": "light"
     },
     "output_type": "display_data"
    }
   ],
   "source": [
    "# visualise complexity over time\n",
    "ax = df_torch_grouped.plot(x = 'Committer_date', y ='Complexity',figsize=(20,7),color=\"blue\",label=\"pytorch\")\n",
    "df_tensor_grouped.plot(x = 'Committer_date', y ='Complexity',figsize=(20,7),color=\"orange\",label=\"tensorflow\",ax=ax)\n",
    "plt.title(\"Average Complexity over time\")"
   ]
  },
  {
   "cell_type": "code",
   "execution_count": 151,
   "id": "6483f668",
   "metadata": {},
   "outputs": [
    {
     "name": "stderr",
     "output_type": "stream",
     "text": [
      "                                                                                \r"
     ]
    },
    {
     "data": {
      "text/html": [
       "<div>\n",
       "<style scoped>\n",
       "    .dataframe tbody tr th:only-of-type {\n",
       "        vertical-align: middle;\n",
       "    }\n",
       "\n",
       "    .dataframe tbody tr th {\n",
       "        vertical-align: top;\n",
       "    }\n",
       "\n",
       "    .dataframe thead th {\n",
       "        text-align: right;\n",
       "    }\n",
       "</style>\n",
       "<table border=\"1\" class=\"dataframe\">\n",
       "  <thead>\n",
       "    <tr style=\"text-align: right;\">\n",
       "      <th></th>\n",
       "      <th>Committer_date</th>\n",
       "      <th>Author_date</th>\n",
       "      <th>Project_type</th>\n",
       "    </tr>\n",
       "  </thead>\n",
       "  <tbody>\n",
       "    <tr>\n",
       "      <th>0</th>\n",
       "      <td>2021-10-15 04:17:25</td>\n",
       "      <td>2021-10-15 04:17:25</td>\n",
       "      <td>tensorflow</td>\n",
       "    </tr>\n",
       "    <tr>\n",
       "      <th>1</th>\n",
       "      <td>2021-10-15 04:17:59</td>\n",
       "      <td>2021-10-15 04:17:59</td>\n",
       "      <td>tensorflow</td>\n",
       "    </tr>\n",
       "    <tr>\n",
       "      <th>2</th>\n",
       "      <td>2021-10-02 05:51:15</td>\n",
       "      <td>2021-10-02 05:46:49</td>\n",
       "      <td>tensorflow</td>\n",
       "    </tr>\n",
       "    <tr>\n",
       "      <th>3</th>\n",
       "      <td>2021-08-02 04:01:57</td>\n",
       "      <td>2021-08-02 04:01:57</td>\n",
       "      <td>tensorflow</td>\n",
       "    </tr>\n",
       "    <tr>\n",
       "      <th>4</th>\n",
       "      <td>2021-12-30 11:42:48</td>\n",
       "      <td>2021-12-30 11:36:34</td>\n",
       "      <td>tensorflow</td>\n",
       "    </tr>\n",
       "    <tr>\n",
       "      <th>...</th>\n",
       "      <td>...</td>\n",
       "      <td>...</td>\n",
       "      <td>...</td>\n",
       "    </tr>\n",
       "    <tr>\n",
       "      <th>60991</th>\n",
       "      <td>2021-09-21 02:31:11</td>\n",
       "      <td>2021-09-21 01:34:28</td>\n",
       "      <td>pytorch</td>\n",
       "    </tr>\n",
       "    <tr>\n",
       "      <th>60992</th>\n",
       "      <td>2021-09-21 02:31:11</td>\n",
       "      <td>2021-09-21 01:34:28</td>\n",
       "      <td>pytorch</td>\n",
       "    </tr>\n",
       "    <tr>\n",
       "      <th>60993</th>\n",
       "      <td>2021-09-21 02:31:11</td>\n",
       "      <td>2021-09-21 01:34:28</td>\n",
       "      <td>pytorch</td>\n",
       "    </tr>\n",
       "    <tr>\n",
       "      <th>60994</th>\n",
       "      <td>2021-09-21 02:31:11</td>\n",
       "      <td>2021-09-21 01:34:28</td>\n",
       "      <td>pytorch</td>\n",
       "    </tr>\n",
       "    <tr>\n",
       "      <th>60995</th>\n",
       "      <td>2021-09-21 02:31:11</td>\n",
       "      <td>2021-09-21 01:34:28</td>\n",
       "      <td>pytorch</td>\n",
       "    </tr>\n",
       "  </tbody>\n",
       "</table>\n",
       "<p>60996 rows × 3 columns</p>\n",
       "</div>"
      ],
      "text/plain": [
       "           Committer_date         Author_date Project_type\n",
       "0     2021-10-15 04:17:25 2021-10-15 04:17:25   tensorflow\n",
       "1     2021-10-15 04:17:59 2021-10-15 04:17:59   tensorflow\n",
       "2     2021-10-02 05:51:15 2021-10-02 05:46:49   tensorflow\n",
       "3     2021-08-02 04:01:57 2021-08-02 04:01:57   tensorflow\n",
       "4     2021-12-30 11:42:48 2021-12-30 11:36:34   tensorflow\n",
       "...                   ...                 ...          ...\n",
       "60991 2021-09-21 02:31:11 2021-09-21 01:34:28      pytorch\n",
       "60992 2021-09-21 02:31:11 2021-09-21 01:34:28      pytorch\n",
       "60993 2021-09-21 02:31:11 2021-09-21 01:34:28      pytorch\n",
       "60994 2021-09-21 02:31:11 2021-09-21 01:34:28      pytorch\n",
       "60995 2021-09-21 02:31:11 2021-09-21 01:34:28      pytorch\n",
       "\n",
       "[60996 rows x 3 columns]"
      ]
     },
     "execution_count": 151,
     "metadata": {},
     "output_type": "execute_result"
    }
   ],
   "source": [
    "# assume committer_date is the end of the project\n",
    "# Committed_date, Author_date \n",
    "df_gitData.createOrReplaceTempView('duration')\n",
    "\n",
    "# Run a simple SQL command\n",
    "df6 = spark_mongo_gitData.sql(\n",
    "    \"\"\"\n",
    "    SELECT Commit.Committer.Committer_date,Commit.Msg.Author.Author_date,Project_name.Project_type\n",
    "    FROM duration\n",
    "    ORDER BY Project_name.Project_type DESC\n",
    "    \"\"\").toPandas()\n",
    "# visualise project duration \n",
    "df6.head()"
   ]
  },
  {
   "cell_type": "code",
   "execution_count": 152,
   "id": "e615d024",
   "metadata": {},
   "outputs": [],
   "source": [
    "# convert to datetime\n",
    "df6['Committer_date'] = pd.to_datetime(df6['Committer_date'])\n",
    "# strip seconds \n",
    "df6['Committer_date'] = df6['Committer_date'].apply(lambda t: t.strftime('%Y-%m-%d'))\n",
    "df6['Author_date'] = df6['Author_date'].apply(lambda t: t.strftime('%Y-%m-%d'))\n",
    "# convert datetime\n",
    "df6['Committer_date'] = pd.to_datetime(df6['Committer_date'])\n",
    "df6['Author_date'] = pd.to_datetime(df6['Author_date'])"
   ]
  },
  {
   "cell_type": "code",
   "execution_count": 153,
   "id": "40dfe72e",
   "metadata": {},
   "outputs": [],
   "source": [
    "# get duration\n",
    "df6['duration'] = df6['Committer_date'] - df6['Author_date']\n",
    "# split the dataset\n",
    "df_torch_new = df6.loc[df6['Project_type'] == 'pytorch']\n",
    "df_tensor_new = df6.loc[df6['Project_type'] == 'tensorflow']"
   ]
  },
  {
   "cell_type": "code",
   "execution_count": 154,
   "id": "56733cfe",
   "metadata": {},
   "outputs": [
    {
     "data": {
      "text/plain": [
       "count                         30641\n",
       "mean      1 days 02:12:54.256714859\n",
       "std      10 days 12:24:32.775684061\n",
       "min                 0 days 00:00:00\n",
       "25%                 0 days 00:00:00\n",
       "50%                 0 days 00:00:00\n",
       "75%                 0 days 00:00:00\n",
       "max               300 days 00:00:00\n",
       "Name: duration, dtype: object"
      ]
     },
     "execution_count": 154,
     "metadata": {},
     "output_type": "execute_result"
    }
   ],
   "source": [
    "# project duration of tensorflow\n",
    "df_tensor_new['duration'].describe()"
   ]
  },
  {
   "cell_type": "code",
   "execution_count": 155,
   "id": "20c5e793",
   "metadata": {},
   "outputs": [
    {
     "data": {
      "text/plain": [
       "count                        30355\n",
       "mean     0 days 07:46:22.157799374\n",
       "std      4 days 13:34:10.673669740\n",
       "min                0 days 00:00:00\n",
       "25%                0 days 00:00:00\n",
       "50%                0 days 00:00:00\n",
       "75%                0 days 00:00:00\n",
       "max               97 days 00:00:00\n",
       "Name: duration, dtype: object"
      ]
     },
     "execution_count": 155,
     "metadata": {},
     "output_type": "execute_result"
    }
   ],
   "source": [
    "# project duration of pytorch\n",
    "df_torch_new['duration'].describe()"
   ]
  }
 ],
 "metadata": {
  "kernelspec": {
   "display_name": "Python 3.8.13 ('dms_spark')",
   "language": "python",
   "name": "python3"
  },
  "language_info": {
   "codemirror_mode": {
    "name": "ipython",
    "version": 3
   },
   "file_extension": ".py",
   "mimetype": "text/x-python",
   "name": "python",
   "nbconvert_exporter": "python",
   "pygments_lexer": "ipython3",
   "version": "3.8.13"
  },
  "toc": {
   "base_numbering": 1,
   "nav_menu": {},
   "number_sections": true,
   "sideBar": true,
   "skip_h1_title": false,
   "title_cell": "Table of Contents",
   "title_sidebar": "Contents",
   "toc_cell": false,
   "toc_position": {},
   "toc_section_display": true,
   "toc_window_display": false
  },
  "varInspector": {
   "cols": {
    "lenName": 16,
    "lenType": 16,
    "lenVar": 40
   },
   "kernels_config": {
    "python": {
     "delete_cmd_postfix": "",
     "delete_cmd_prefix": "del ",
     "library": "var_list.py",
     "varRefreshCmd": "print(var_dic_list())"
    },
    "r": {
     "delete_cmd_postfix": ") ",
     "delete_cmd_prefix": "rm(",
     "library": "var_list.r",
     "varRefreshCmd": "cat(var_dic_list()) "
    }
   },
   "types_to_exclude": [
    "module",
    "function",
    "builtin_function_or_method",
    "instance",
    "_Feature"
   ],
   "window_display": false
  },
  "vscode": {
   "interpreter": {
    "hash": "ce70a4ba774d674a5251e0c8ea956312ea64fb70cd42bcdcf220894502e2eb1d"
   }
  }
 },
 "nbformat": 4,
 "nbformat_minor": 5
}
