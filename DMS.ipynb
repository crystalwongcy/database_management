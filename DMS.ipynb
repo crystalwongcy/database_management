{
 "cells": [
  {
   "cell_type": "code",
   "execution_count": 1,
   "id": "c3372b34",
   "metadata": {
    "ExecuteTime": {
     "end_time": "2022-07-07T12:47:55.708708Z",
     "start_time": "2022-07-07T12:47:53.317764Z"
    }
   },
   "outputs": [],
   "source": [
    "# libraries\n",
    "import pandas as pd\n",
    "import numpy as np\n",
    "from pymongo import MongoClient"
   ]
  },
  {
   "cell_type": "code",
   "execution_count": 4,
   "id": "5a33cfa5",
   "metadata": {},
   "outputs": [],
   "source": [
    "#read data in csv format\n",
    "git = pd.read_csv('gitData.csv')\n",
    "issues = pd.read_csv('gitIssues.csv')"
   ]
  },
  {
   "cell_type": "code",
   "execution_count": 3,
   "id": "b019ee48",
   "metadata": {
    "ExecuteTime": {
     "end_time": "2022-07-08T13:46:29.994539Z",
     "start_time": "2022-07-08T13:46:29.954839Z"
    }
   },
   "outputs": [
    {
     "name": "stdout",
     "output_type": "stream",
     "text": [
      "(60996, 30)\n",
      "(32329, 22)\n"
     ]
    }
   ],
   "source": [
    "# check the shape of the data\n",
    "print(git.shape)\n",
    "print(issues.shape)"
   ]
  },
  {
   "cell_type": "code",
   "execution_count": 4,
   "id": "4f9394e8",
   "metadata": {
    "ExecuteTime": {
     "end_time": "2022-07-08T13:45:39.241782Z",
     "start_time": "2022-07-08T13:45:38.443669Z"
    }
   },
   "outputs": [
    {
     "name": "stdout",
     "output_type": "stream",
     "text": [
      "<class 'pandas.core.frame.DataFrame'>\n",
      "RangeIndex: 60996 entries, 0 to 60995\n",
      "Data columns (total 30 columns):\n",
      " #   Column              Non-Null Count  Dtype  \n",
      "---  ------              --------------  -----  \n",
      " 0   Unnamed: 0          60996 non-null  int64  \n",
      " 1   hash                60996 non-null  object \n",
      " 2   msg                 60996 non-null  object \n",
      " 3   author_name         60996 non-null  object \n",
      " 4   committer_name      60996 non-null  object \n",
      " 5   author_date         60996 non-null  object \n",
      " 6   author_timezone     60996 non-null  int64  \n",
      " 7   committer_date      60996 non-null  object \n",
      " 8   committer_timezone  60996 non-null  int64  \n",
      " 9   branches            60996 non-null  object \n",
      " 10  in_main_branch      60996 non-null  bool   \n",
      " 11  merge               60996 non-null  bool   \n",
      " 12  parents             60996 non-null  object \n",
      " 13  project_name        60996 non-null  object \n",
      " 14  deletions           60996 non-null  int64  \n",
      " 15  insertions          60996 non-null  int64  \n",
      " 16  lines               60996 non-null  int64  \n",
      " 17  files               60996 non-null  int64  \n",
      " 18  old_path            56877 non-null  object \n",
      " 19  new_path            59515 non-null  object \n",
      " 20  filename            60996 non-null  object \n",
      " 21  change_type         60996 non-null  object \n",
      " 22  diff                60397 non-null  object \n",
      " 23  diff_parsed         60570 non-null  object \n",
      " 24  deleted_lines       60996 non-null  int64  \n",
      " 25  source_code         58843 non-null  object \n",
      " 26  source_code_before  56092 non-null  object \n",
      " 27  nloc                28584 non-null  float64\n",
      " 28  complexity          28584 non-null  float64\n",
      " 29  token_count         28584 non-null  float64\n",
      "dtypes: bool(2), float64(3), int64(8), object(17)\n",
      "memory usage: 13.1+ MB\n",
      "None\n",
      "<class 'pandas.core.frame.DataFrame'>\n",
      "RangeIndex: 32329 entries, 0 to 32328\n",
      "Data columns (total 22 columns):\n",
      " #   Column              Non-Null Count  Dtype  \n",
      "---  ------              --------------  -----  \n",
      " 0   Unnamed: 0          32329 non-null  int64  \n",
      " 1   title               32329 non-null  object \n",
      " 2   state               32329 non-null  object \n",
      " 3   body                31868 non-null  object \n",
      " 4   user                32329 non-null  object \n",
      " 5   user_id             32329 non-null  object \n",
      " 6   repository          0 non-null      float64\n",
      " 7   created_at          32329 non-null  object \n",
      " 8   updated_at          32329 non-null  object \n",
      " 9   closed_at           32329 non-null  object \n",
      " 10  assignees           32329 non-null  object \n",
      " 11  labels              32329 non-null  object \n",
      " 12  reactions           32329 non-null  object \n",
      " 13  n_comments          32329 non-null  int64  \n",
      " 14  closed_by           13241 non-null  object \n",
      " 15  comment_id          32329 non-null  int64  \n",
      " 16  comment_created_at  32329 non-null  object \n",
      " 17  comment_updated_at  32329 non-null  object \n",
      " 18  comment_user_id     32329 non-null  object \n",
      " 19  comment_user        32329 non-null  object \n",
      " 20  comment_text        32329 non-null  object \n",
      " 21  project             32329 non-null  object \n",
      "dtypes: float64(1), int64(3), object(18)\n",
      "memory usage: 5.4+ MB\n",
      "None\n"
     ]
    }
   ],
   "source": [
    "#data inspection\n",
    "print(git.info())\n",
    "print(issues.info())"
   ]
  },
  {
   "cell_type": "code",
   "execution_count": 5,
   "id": "c5d3d2c8",
   "metadata": {
    "ExecuteTime": {
     "end_time": "2022-07-07T15:13:26.360886Z",
     "start_time": "2022-07-07T15:13:26.036907Z"
    }
   },
   "outputs": [
    {
     "name": "stdout",
     "output_type": "stream",
     "text": [
      "\n",
      "Database\n",
      "==========\n",
      "Database(MongoClient(host=['localhost:27017'], document_class=dict, tz_aware=False, connect=True), 'github')\n",
      "\n",
      "Collection\n",
      "==========\n",
      "Collection(Database(MongoClient(host=['localhost:27017'], document_class=dict, tz_aware=False, connect=True), 'github'), 'gitIssues')\n",
      "\n"
     ]
    }
   ],
   "source": [
    "# let's connect to the localhost\n",
    "client = MongoClient()\n",
    "\n",
    "# let's create a database \n",
    "db = client.github\n",
    "\n",
    "# collection for git issues\n",
    "gitIssues = db.gitIssues\n",
    "\n",
    "# print connection\n",
    "print(\"\"\"\n",
    "Database\n",
    "==========\n",
    "{}\n",
    "\n",
    "Collection\n",
    "==========\n",
    "{}\n",
    "\"\"\".format(db, gitIssues), flush=True\n",
    ")"
   ]
  },
  {
   "cell_type": "code",
   "execution_count": 5,
   "id": "7118cb22",
   "metadata": {
    "ExecuteTime": {
     "end_time": "2022-07-07T15:15:53.539572Z",
     "start_time": "2022-07-07T15:14:52.895015Z"
    }
   },
   "outputs": [
    {
     "name": "stdout",
     "output_type": "stream",
     "text": [
      "CPU times: user 1.4 ms, sys: 211 µs, total: 1.61 ms\n",
      "Wall time: 3.31 ms\n"
     ]
    }
   ],
   "source": [
    "%%time \n",
    "##\n",
    "# slow loading of data\n",
    "d_gitissue = {}\n",
    "# pass data \n",
    "for i in issues.index:\n",
    "    d_gitissue = {\n",
    "        \"Questions\": {\n",
    "            \"Title\": issues.loc[i,\"title\"],\n",
    "            \"Body\": issues.loc[i,\"body\"]\n",
    "        },\n",
    "        \"User\" : {\n",
    "            \"Username\" : issues.loc[i, \"user\"],\n",
    "            \"User_ID\" :  issues.loc[i,\"user_id\"]\n",
    "        },\n",
    "        \"State\" : {\n",
    "            \"State\" : issues.loc[i, \"state\"],\n",
    "            \"Created_at\" :  issues.loc[i,\"created_at\"],\n",
    "            \"Updated_at\" :  issues.loc[i,\"updated_at\"],\n",
    "            \"Closed_at\" : issues.loc[i, \"closed_at\"]\n",
    "        },\n",
    "        \"Assignees\" : issues.loc[i, \"assignees\"],\n",
    "        \"Closed_by\" : issues.loc[i, \"closed_by\"],\n",
    "        \"Labels\" : issues.loc[i, \"labels\"],\n",
    "        \"Reactions\" : issues.loc[i, \"reactions\"],\n",
    "        \"N_comments\" : issues.loc[i, \"n_comments\"].astype(str),\n",
    "        \"Projects\" : issues.loc[i, \"project\"]\n",
    "    }\n",
    "    if issues.loc[i,\"title\"] == issues.loc[i-1,\"title\"]:\n",
    "        continue\n",
    "    else:\n",
    "        gitIssues.insert_one(d_gitissue)"
   ]
  },
  {
   "cell_type": "code",
   "execution_count": 8,
   "id": "0422f574",
   "metadata": {},
   "outputs": [
    {
     "name": "stdout",
     "output_type": "stream",
     "text": [
      "\n",
      "Database\n",
      "==========\n",
      "Database(MongoClient(host=['localhost:27017'], document_class=dict, tz_aware=False, connect=True), 'github')\n",
      "\n",
      "Collection\n",
      "==========\n",
      "Collection(Database(MongoClient(host=['localhost:27017'], document_class=dict, tz_aware=False, connect=True), 'github'), 'IssueComment')\n",
      "\n"
     ]
    }
   ],
   "source": [
    "# new collection for issue comment\n",
    "IssueComment = db.IssueComment\n",
    "\n",
    "# print connection\n",
    "print(\"\"\"\n",
    "Database\n",
    "==========\n",
    "{}\n",
    "\n",
    "Collection\n",
    "==========\n",
    "{}\n",
    "\"\"\".format(db, IssueComment), flush=True\n",
    ")"
   ]
  },
  {
   "cell_type": "code",
   "execution_count": 6,
   "id": "2dc34366",
   "metadata": {},
   "outputs": [
    {
     "name": "stdout",
     "output_type": "stream",
     "text": [
      "CPU times: user 327 µs, sys: 49 µs, total: 376 µs\n",
      "Wall time: 385 µs\n"
     ]
    }
   ],
   "source": [
    "%%time \n",
    "##\n",
    "# slow loading of data\n",
    "d_comment = {}\n",
    "# pass data \n",
    "for i in issues.index:\n",
    "    d_comment = {\n",
    "        \"Title\": issues.loc[i,\"title\"],\n",
    "        \"Comment_created_at\": issues.loc[i,\"comment_created_at\"],\n",
    "        \"Labels\" : issues.loc[i, \"labels\"],\n",
    "        \"Reactions\" : issues.loc[i, \"reactions\"],\n",
    "        \"N_comments\" : issues.loc[i, \"n_comments\"].astype(str),\n",
    "        \"Projects\" : issues.loc[i, \"project\"]\n",
    "    }\n",
    "    IssueComment.insert_one(d_comment)"
   ]
  },
  {
   "cell_type": "code",
   "execution_count": 4,
   "id": "b4f153e2",
   "metadata": {},
   "outputs": [],
   "source": [
    "# let's connect to the localhost\n",
    "client = MongoClient()\n",
    "\n",
    "# let's create a database \n",
    "db = client.github"
   ]
  },
  {
   "cell_type": "code",
   "execution_count": 5,
   "id": "dab392c6",
   "metadata": {
    "ExecuteTime": {
     "end_time": "2022-07-08T13:46:57.103861Z",
     "start_time": "2022-07-08T13:46:57.022520Z"
    }
   },
   "outputs": [
    {
     "name": "stdout",
     "output_type": "stream",
     "text": [
      "\n",
      "Database\n",
      "==========\n",
      "Database(MongoClient(host=['localhost:27017'], document_class=dict, tz_aware=False, connect=True), 'github')\n",
      "\n",
      "Collection\n",
      "==========\n",
      "Collection(Database(MongoClient(host=['localhost:27017'], document_class=dict, tz_aware=False, connect=True), 'github'), 'gitData_new')\n",
      "\n"
     ]
    }
   ],
   "source": [
    "# new collection for git data\n",
    "gitData = db.gitData_new\n",
    "\n",
    "# print connection\n",
    "print(\"\"\"\n",
    "Database\n",
    "==========\n",
    "{}\n",
    "\n",
    "Collection\n",
    "==========\n",
    "{}\n",
    "\"\"\".format(db, gitData), flush=True\n",
    ")"
   ]
  },
  {
   "cell_type": "code",
   "execution_count": 6,
   "id": "ec5d52b8",
   "metadata": {
    "ExecuteTime": {
     "end_time": "2022-07-08T13:58:09.735220Z",
     "start_time": "2022-07-08T13:47:16.024086Z"
    }
   },
   "outputs": [
    {
     "ename": "NameError",
     "evalue": "name 'git' is not defined",
     "output_type": "error",
     "traceback": [
      "\u001b[0;31m---------------------------------------------------------------------------\u001b[0m",
      "\u001b[0;31mNameError\u001b[0m                                 Traceback (most recent call last)",
      "\u001b[1;32m/home/ash/Documents/database_management/DMS.ipynb Cell 11\u001b[0m in \u001b[0;36m<cell line: 7>\u001b[0;34m()\u001b[0m\n\u001b[1;32m      <a href='vscode-notebook-cell:/home/ash/Documents/database_management/DMS.ipynb#ch0000009?line=4'>5</a>\u001b[0m d_gitcommit \u001b[39m=\u001b[39m {}\n\u001b[1;32m      <a href='vscode-notebook-cell:/home/ash/Documents/database_management/DMS.ipynb#ch0000009?line=5'>6</a>\u001b[0m \u001b[39m#pass data\u001b[39;00m\n\u001b[0;32m----> <a href='vscode-notebook-cell:/home/ash/Documents/database_management/DMS.ipynb#ch0000009?line=6'>7</a>\u001b[0m \u001b[39mfor\u001b[39;00m i \u001b[39min\u001b[39;00m git\u001b[39m.\u001b[39mindex:\n\u001b[1;32m      <a href='vscode-notebook-cell:/home/ash/Documents/database_management/DMS.ipynb#ch0000009?line=7'>8</a>\u001b[0m     d_gitcommit \u001b[39m=\u001b[39m {\n\u001b[1;32m      <a href='vscode-notebook-cell:/home/ash/Documents/database_management/DMS.ipynb#ch0000009?line=8'>9</a>\u001b[0m         \u001b[39m# \"Commit\": {\u001b[39;00m\n\u001b[1;32m     <a href='vscode-notebook-cell:/home/ash/Documents/database_management/DMS.ipynb#ch0000009?line=9'>10</a>\u001b[0m         \u001b[39m#     \"hash\":git.loc[i, \"hash\"],\u001b[39;00m\n\u001b[0;32m   (...)\u001b[0m\n\u001b[1;32m     <a href='vscode-notebook-cell:/home/ash/Documents/database_management/DMS.ipynb#ch0000009?line=61'>62</a>\u001b[0m         \n\u001b[1;32m     <a href='vscode-notebook-cell:/home/ash/Documents/database_management/DMS.ipynb#ch0000009?line=62'>63</a>\u001b[0m      }\n\u001b[1;32m     <a href='vscode-notebook-cell:/home/ash/Documents/database_management/DMS.ipynb#ch0000009?line=63'>64</a>\u001b[0m     \u001b[39m# break\u001b[39;00m\n",
      "\u001b[0;31mNameError\u001b[0m: name 'git' is not defined"
     ]
    }
   ],
   "source": [
    "# import the git data to mongo compass\n",
    "#%%time \n",
    "##\n",
    "# slow loading of data\n",
    "d_gitcommit = {}\n",
    "#pass data\n",
    "for i in git.index:\n",
    "    d_gitcommit = {\n",
    "        \"Commit\": {\n",
    "            \"hash\":git.loc[i, \"hash\"],\n",
    "            \"Msg\":{\n",
    "                \"msg\":git.loc[i, 'msg'],\n",
    "                \"Author\":{\n",
    "                    \"Author_name\": git.loc[i, 'author_name'],\n",
    "                    \"Author_date\": git.loc[i, 'author_date'],\n",
    "                    \"Author_timezone\": git.loc[i, 'author_timezone'].astype(str)\n",
    "                }\n",
    "            },\n",
    "            \"Committer\":{\n",
    "                \"Committer_name\": git.loc[i, 'committer_name'],\n",
    "                \"Committer_date\": git.loc[i, 'committer_date'],\n",
    "                \"Committer_timezone\": git.loc[i, 'committer_timezone'].astype(str)\n",
    "            }\n",
    "        },\n",
    "        \"Branch\":{\n",
    "            \"Branches\": git.loc[i, 'branches'],\n",
    "            \"In_main_branch\": git.loc[i, 'in_main_branch'].astype(str),\n",
    "            \"Merge\": git.loc[i, 'merge'].astype(str),\n",
    "            \"Parents\":git.loc[i, 'parents']\n",
    "        },\n",
    "        \"Project_name\": git.loc[i, 'project_name'],\n",
    "        \"File\":{\n",
    "            \"Filename\": git.loc[i, 'filename'],\n",
    "            \"Change_type\": git.loc[i, 'change_type'],\n",
    "            \"Commit_change\":{\n",
    "                \"Deletions\": git.loc[i, 'deletions'].astype(str),\n",
    "                \"Insertions\": git.loc[i, 'insertions'].astype(str),\n",
    "                \"Files\": git.loc[i, 'files'].astype(str),\n",
    "                \"Lines\":git.loc[i, 'lines'].astype(str)\n",
    "            }\n",
    "        },\n",
    "        \"Code_change\":{\n",
    "            \"Path\":{\n",
    "                \"old_path\":git.loc[i, 'old_path'],\n",
    "                \"new_path\": git.loc[i, 'new_path']\n",
    "            },\n",
    "            \"Diff\":{\n",
    "                \"Diff\": git.loc[i, 'diff'],\n",
    "                \"Diff_parse\":{\n",
    "                    \"Diff_parsed\":git.loc[i, 'diff_parsed'],\n",
    "                    \"Deleted_lines\":git.loc[i, 'deleted_lines'].astype(str)\n",
    "                }\n",
    "            },\n",
    "            \"Source_code\":{\n",
    "                \"Source_code\":git.loc[i, 'source_code'],\n",
    "                \"Source_code_before\":git.loc[i, 'source_code_before']\n",
    "            }\n",
    "        },\n",
    "        \"Nloc\":git.loc[i, 'nloc'],\n",
    "        \"Complexity\":git.loc[i, 'complexity'],\n",
    "        \"Token_count\":git.loc[i, 'token_count']\n",
    "        \n",
    "     }\n",
    "    gitData.insert_one(d_gitcommit)"
   ]
  },
  {
   "cell_type": "code",
   "execution_count": 2,
   "id": "bbe04373",
   "metadata": {},
   "outputs": [],
   "source": [
    "# let's connect to the localhost\n",
    "client = MongoClient()\n",
    "# link to the database\n",
    "db = client.github\n",
    "\n",
    "# link to the collection\n",
    "gitData = db.gitData\n",
    "gitIssues = db.gitIssues\n",
    "IssueComment = db.IssueComment\n"
   ]
  },
  {
   "cell_type": "code",
   "execution_count": 8,
   "id": "28dadc80",
   "metadata": {},
   "outputs": [],
   "source": [
    "# data cleaning\n",
    "# clean the NA values into null\n",
    "# get key names\n",
    "key_list_issue = []\n",
    "for i in d_gitissue.keys():\n",
    "    try:\n",
    "        for b in d_gitissue.get(str(i)).keys():\n",
    "            key_list_issue.append(str(i) + '.' + str(b))\n",
    "    except:\n",
    "        key_list_issue.append(i)"
   ]
  },
  {
   "cell_type": "code",
   "execution_count": 10,
   "id": "1c7b55b3",
   "metadata": {},
   "outputs": [],
   "source": [
    "# get key names\n",
    "key_list_comment = []\n",
    "for i in d_comment.keys():\n",
    "    try:\n",
    "        for b in d_comment.get(str(i)).keys():\n",
    "            key_list_comment.append(str(i) + '.' + str(b))\n",
    "    except:\n",
    "        key_list_comment.append(i)"
   ]
  },
  {
   "cell_type": "code",
   "execution_count": 11,
   "id": "e5990f00",
   "metadata": {},
   "outputs": [],
   "source": [
    "# get key names\n",
    "key_list_commit = []\n",
    "for i in d_gitcommit.keys():\n",
    "    try:\n",
    "        for b in d_gitcommit.get(str(i)).keys():\n",
    "            key_list_commit.append(str(i) + '.' + str(b))\n",
    "    except:\n",
    "        key_list_commit.append(i)"
   ]
  },
  {
   "cell_type": "code",
   "execution_count": 13,
   "id": "ffee7168",
   "metadata": {},
   "outputs": [
    {
     "name": "stdout",
     "output_type": "stream",
     "text": [
      "\n",
      "    Key: Questions.Title\n",
      "    Matched: 0\n",
      "    Modified: 0\n",
      "    ------------\n",
      "    \n",
      "\n",
      "    Key: Questions.Body\n",
      "    Matched: 461\n",
      "    Modified: 461\n",
      "    ------------\n",
      "    \n",
      "\n",
      "    Key: User.Username\n",
      "    Matched: 0\n",
      "    Modified: 0\n",
      "    ------------\n",
      "    \n",
      "\n",
      "    Key: User.User_ID\n",
      "    Matched: 0\n",
      "    Modified: 0\n",
      "    ------------\n",
      "    \n",
      "\n",
      "    Key: State.State\n",
      "    Matched: 0\n",
      "    Modified: 0\n",
      "    ------------\n",
      "    \n",
      "\n",
      "    Key: State.Created_at\n",
      "    Matched: 0\n",
      "    Modified: 0\n",
      "    ------------\n",
      "    \n",
      "\n",
      "    Key: State.Updated_at\n",
      "    Matched: 0\n",
      "    Modified: 0\n",
      "    ------------\n",
      "    \n",
      "\n",
      "    Key: State.Closed_at\n",
      "    Matched: 0\n",
      "    Modified: 0\n",
      "    ------------\n",
      "    \n",
      "\n",
      "    Key: Assignees\n",
      "    Matched: 0\n",
      "    Modified: 0\n",
      "    ------------\n",
      "    \n",
      "\n",
      "    Key: Closed_by\n",
      "    Matched: 19088\n",
      "    Modified: 19088\n",
      "    ------------\n",
      "    \n",
      "\n",
      "    Key: Labels\n",
      "    Matched: 0\n",
      "    Modified: 0\n",
      "    ------------\n",
      "    \n",
      "\n",
      "    Key: Reactions\n",
      "    Matched: 0\n",
      "    Modified: 0\n",
      "    ------------\n",
      "    \n",
      "\n",
      "    Key: N_comments\n",
      "    Matched: 0\n",
      "    Modified: 0\n",
      "    ------------\n",
      "    \n",
      "\n",
      "    Key: Projects\n",
      "    Matched: 0\n",
      "    Modified: 0\n",
      "    ------------\n",
      "    \n"
     ]
    }
   ],
   "source": [
    "# unset NaN fields\n",
    "for i in key_list_issue:\n",
    "    update = gitIssues.update_many({str(i):np.nan},{\"$unset\": {str(i):\"\"}})\n",
    "    print(\"\"\"\n",
    "    Key: {}\n",
    "    Matched: {}\n",
    "    Modified: {}\n",
    "    ------------\n",
    "    \"\"\".format(i, update.matched_count, update.modified_count), flush=True)"
   ]
  },
  {
   "cell_type": "code",
   "execution_count": 14,
   "id": "164dd449",
   "metadata": {},
   "outputs": [
    {
     "name": "stdout",
     "output_type": "stream",
     "text": [
      "\n",
      "    Key: Title\n",
      "    Matched: 0\n",
      "    Modified: 0\n",
      "    ------------\n",
      "    \n",
      "\n",
      "    Key: Comment_created_at\n",
      "    Matched: 0\n",
      "    Modified: 0\n",
      "    ------------\n",
      "    \n",
      "\n",
      "    Key: Labels\n",
      "    Matched: 0\n",
      "    Modified: 0\n",
      "    ------------\n",
      "    \n",
      "\n",
      "    Key: Reactions\n",
      "    Matched: 0\n",
      "    Modified: 0\n",
      "    ------------\n",
      "    \n",
      "\n",
      "    Key: N_comments\n",
      "    Matched: 0\n",
      "    Modified: 0\n",
      "    ------------\n",
      "    \n",
      "\n",
      "    Key: Projects\n",
      "    Matched: 0\n",
      "    Modified: 0\n",
      "    ------------\n",
      "    \n"
     ]
    }
   ],
   "source": [
    "# unset NaN fields\n",
    "for i in key_list_comment:\n",
    "    update = IssueComment.update_many({str(i):np.nan},{\"$unset\": {str(i):\"\"}})\n",
    "    print(\"\"\"\n",
    "    Key: {}\n",
    "    Matched: {}\n",
    "    Modified: {}\n",
    "    ------------\n",
    "    \"\"\".format(i, update.matched_count, update.modified_count), flush=True)"
   ]
  },
  {
   "cell_type": "code",
   "execution_count": null,
   "id": "3f5c0d70",
   "metadata": {},
   "outputs": [],
   "source": [
    "# unset NaN fields\n",
    "for i in key_list_commit:\n",
    "    update = gitData.update_many({str(i):np.nan},{\"$unset\": {str(i):\"\"}})\n",
    "    print(\"\"\"\n",
    "    Key: {}\n",
    "    Matched: {}\n",
    "    Modified: {}\n",
    "    ------------\n",
    "    \"\"\".format(i, update.matched_count, update.modified_count), flush=True)"
   ]
  },
  {
   "cell_type": "code",
   "execution_count": 3,
   "id": "7d03e1af",
   "metadata": {},
   "outputs": [
    {
     "name": "stdout",
     "output_type": "stream",
     "text": [
      "\n",
      "    Key: Created_at\n",
      "    Matched: 5513\n",
      "    Modified: 5513\n",
      "    ------------\n",
      "    \n"
     ]
    }
   ],
   "source": [
    "# update the date date from string to datetime\n",
    "# change the data type of 'Created_at', 'Updated_at', and 'closed_at' in gitissues\n",
    "update = gitIssues.update_many(\n",
    "    {},\n",
    "    [{\"$set\": {\n",
    "        \"State.Created_at\": {\n",
    "            \"$toDate\":\"$State.Created_at\" } \n",
    "        }\n",
    "    }\n",
    "]\n",
    ")\n",
    "\n",
    "print(\"\"\"\n",
    "    Key: {}\n",
    "    Matched: {}\n",
    "    Modified: {}\n",
    "    ------------\n",
    "    \"\"\".format(\"Created_at\", update.matched_count, update.modified_count), flush=True)"
   ]
  },
  {
   "cell_type": "code",
   "execution_count": 4,
   "id": "48cffad1",
   "metadata": {},
   "outputs": [
    {
     "name": "stdout",
     "output_type": "stream",
     "text": [
      "\n",
      "    Key: Updated_at\n",
      "    Matched: 5513\n",
      "    Modified: 5513\n",
      "    ------------\n",
      "    \n"
     ]
    }
   ],
   "source": [
    "# change the data type of 'Created_at', 'Updated_at', and 'closed_at' in gitissues\n",
    "update = gitIssues.update_many(\n",
    "    {},\n",
    "    [{\"$set\": {\n",
    "        \"State.Updated_at\": {\n",
    "            \"$toDate\":\"$State.Updated_at\" } \n",
    "        }\n",
    "    }\n",
    "]\n",
    ")\n",
    "\n",
    "print(\"\"\"\n",
    "    Key: {}\n",
    "    Matched: {}\n",
    "    Modified: {}\n",
    "    ------------\n",
    "    \"\"\".format(\"Updated_at\", update.matched_count, update.modified_count), flush=True)"
   ]
  },
  {
   "cell_type": "code",
   "execution_count": 5,
   "id": "94bcb23e",
   "metadata": {},
   "outputs": [
    {
     "name": "stdout",
     "output_type": "stream",
     "text": [
      "\n",
      "    Key: Closed_at\n",
      "    Matched: 5513\n",
      "    Modified: 5513\n",
      "    ------------\n",
      "    \n"
     ]
    }
   ],
   "source": [
    "# change the data type of 'Created_at', 'Updated_at', and 'closed_at' in gitissues\n",
    "update = gitIssues.update_many(\n",
    "    {},\n",
    "    [{\"$set\": {\n",
    "        \"State.Closed_at\": {\n",
    "            \"$toDate\":\"$State.Closed_at\" } \n",
    "        }\n",
    "    }\n",
    "]\n",
    ")\n",
    "\n",
    "print(\"\"\"\n",
    "    Key: {}\n",
    "    Matched: {}\n",
    "    Modified: {}\n",
    "    ------------\n",
    "    \"\"\".format(\"Closed_at\", update.matched_count, update.modified_count), flush=True)"
   ]
  },
  {
   "cell_type": "code",
   "execution_count": 6,
   "id": "67bc53ee",
   "metadata": {},
   "outputs": [
    {
     "name": "stdout",
     "output_type": "stream",
     "text": [
      "\n",
      "    Key: Commit.Msg.Author.Author_date\n",
      "    Matched: 60996\n",
      "    Modified: 60996\n",
      "    ------------\n",
      "    \n"
     ]
    }
   ],
   "source": [
    "# change the data type of 'Author_date', 'Committer_date' in gitData\n",
    "update = gitData.update_many(\n",
    "    {},\n",
    "    [{\"$set\": {\n",
    "        \"Commit.Msg.Author.Author_date\": {\n",
    "            \"$toDate\":\"$Commit.Msg.Author.Author_date\" } \n",
    "        }\n",
    "    }\n",
    "]\n",
    ")\n",
    "\n",
    "print(\"\"\"\n",
    "    Key: {}\n",
    "    Matched: {}\n",
    "    Modified: {}\n",
    "    ------------\n",
    "    \"\"\".format(\"Commit.Msg.Author.Author_date\", update.matched_count, update.modified_count), flush=True)"
   ]
  },
  {
   "cell_type": "code",
   "execution_count": 7,
   "id": "3f9a838d",
   "metadata": {},
   "outputs": [
    {
     "name": "stdout",
     "output_type": "stream",
     "text": [
      "\n",
      "    Key: Commit.Committer.Committer_date\n",
      "    Matched: 60996\n",
      "    Modified: 60996\n",
      "    ------------\n",
      "    \n"
     ]
    }
   ],
   "source": [
    "# change the data type of 'Author_date', 'Committer_date' in gitData\n",
    "update = gitData.update_many(\n",
    "    {},\n",
    "    [{\"$set\": {\n",
    "        \"Commit.Committer.Committer_date\": {\n",
    "            \"$toDate\":\"$Commit.Committer.Committer_date\" } \n",
    "        }\n",
    "    }\n",
    "]\n",
    ")\n",
    "\n",
    "print(\"\"\"\n",
    "    Key: {}\n",
    "    Matched: {}\n",
    "    Modified: {}\n",
    "    ------------\n",
    "    \"\"\".format(\"Commit.Committer.Committer_date\", update.matched_count, update.modified_count), flush=True)"
   ]
  },
  {
   "cell_type": "code",
   "execution_count": 8,
   "id": "25b86615",
   "metadata": {},
   "outputs": [
    {
     "name": "stdout",
     "output_type": "stream",
     "text": [
      "\n",
      "    Key: Comment_created_at\n",
      "    Matched: 32329\n",
      "    Modified: 32329\n",
      "    ------------\n",
      "    \n"
     ]
    }
   ],
   "source": [
    "# change the data type of 'Comment_created_at' in issueComment\n",
    "update = IssueComment.update_many(\n",
    "    {},\n",
    "    [{\"$set\": {\n",
    "        \"Comment_created_at\": {\n",
    "            \"$toDate\":\"$Comment_created_at\" } \n",
    "        }\n",
    "    }\n",
    "]\n",
    ")\n",
    "\n",
    "print(\"\"\"\n",
    "    Key: {}\n",
    "    Matched: {}\n",
    "    Modified: {}\n",
    "    ------------\n",
    "    \"\"\".format(\"Comment_created_at\", update.matched_count, update.modified_count), flush=True)"
   ]
  },
  {
   "cell_type": "code",
   "execution_count": 9,
   "id": "1d4ea367",
   "metadata": {},
   "outputs": [
    {
     "name": "stdout",
     "output_type": "stream",
     "text": [
      "\n",
      "    Key: N_comments\n",
      "    Matched: 5513\n",
      "    Modified: 5513\n",
      "    ------------\n",
      "    \n"
     ]
    }
   ],
   "source": [
    "# update numeric data from string to int\n",
    "# change the data type of \"N_comments\" in gitIssues into integer\n",
    "update = gitIssues.update_many(\n",
    "    {},\n",
    "    [{\"$set\": {\n",
    "        \"N_comments\": {\n",
    "            \"$toInt\":\"$N_comments\" } \n",
    "        }\n",
    "    }\n",
    "]\n",
    ")\n",
    "\n",
    "print(\"\"\"\n",
    "    Key: {}\n",
    "    Matched: {}\n",
    "    Modified: {}\n",
    "    ------------\n",
    "    \"\"\".format(\"N_comments\", update.matched_count, update.modified_count), flush=True)"
   ]
  },
  {
   "cell_type": "code",
   "execution_count": 10,
   "id": "c9b4ea67",
   "metadata": {},
   "outputs": [
    {
     "name": "stdout",
     "output_type": "stream",
     "text": [
      "\n",
      "    Key: Author_timezone\n",
      "    Matched: 32329\n",
      "    Modified: 32329\n",
      "    ------------\n",
      "    \n"
     ]
    }
   ],
   "source": [
    "# change the data type of \"Author_timezone\" in gitData into integer\n",
    "update = IssueComment.update_many(\n",
    "    {},\n",
    "    [{\"$set\": {\n",
    "        \"N_comments\": {\n",
    "            \"$toInt\":\"$N_comments\" } \n",
    "        }\n",
    "    }\n",
    "]\n",
    ")\n",
    "\n",
    "print(\"\"\"\n",
    "    Key: {}\n",
    "    Matched: {}\n",
    "    Modified: {}\n",
    "    ------------\n",
    "    \"\"\".format(\"Author_timezone\", update.matched_count, update.modified_count), flush=True)"
   ]
  },
  {
   "cell_type": "code",
   "execution_count": 11,
   "id": "77eed3a6",
   "metadata": {},
   "outputs": [
    {
     "name": "stdout",
     "output_type": "stream",
     "text": [
      "\n",
      "    Key: Author_timezone\n",
      "    Matched: 60996\n",
      "    Modified: 60996\n",
      "    ------------\n",
      "    \n"
     ]
    }
   ],
   "source": [
    "# change the data type of \"Author_timezone\" in gitData into integer\n",
    "update = gitData.update_many(\n",
    "    {},\n",
    "    [{\"$set\": {\n",
    "        \"Commit.Msg.Author.Author_timezone\": {\n",
    "            \"$toInt\":\"$Commit.Msg.Author.Author_timezone\" } \n",
    "        }\n",
    "    }\n",
    "]\n",
    ")\n",
    "\n",
    "print(\"\"\"\n",
    "    Key: {}\n",
    "    Matched: {}\n",
    "    Modified: {}\n",
    "    ------------\n",
    "    \"\"\".format(\"Author_timezone\", update.matched_count, update.modified_count), flush=True)"
   ]
  },
  {
   "cell_type": "code",
   "execution_count": 12,
   "id": "bb725c79",
   "metadata": {},
   "outputs": [
    {
     "name": "stdout",
     "output_type": "stream",
     "text": [
      "\n",
      "    Key: Author_timezone\n",
      "    Matched: 60996\n",
      "    Modified: 60996\n",
      "    ------------\n",
      "    \n"
     ]
    }
   ],
   "source": [
    "# change the data type of \"Author_timezone\" in gitData into integer\n",
    "update = gitData.update_many(\n",
    "    {},\n",
    "    [{\"$set\": {\n",
    "        \"Commit.Committer.Committer_timezone\": {\n",
    "            \"$toInt\":\"$Commit.Committer.Committer_timezone\" } \n",
    "        }\n",
    "    }\n",
    "]\n",
    ")\n",
    "\n",
    "print(\"\"\"\n",
    "    Key: {}\n",
    "    Matched: {}\n",
    "    Modified: {}\n",
    "    ------------\n",
    "    \"\"\".format(\"Commit.Committer.Committer_timezone\", update.matched_count, update.modified_count), flush=True)"
   ]
  },
  {
   "cell_type": "code",
   "execution_count": 13,
   "id": "a6ec72d3",
   "metadata": {},
   "outputs": [
    {
     "name": "stdout",
     "output_type": "stream",
     "text": [
      "\n",
      "    Key: Deletions\n",
      "    Matched: 60996\n",
      "    Modified: 60996\n",
      "    ------------\n",
      "    \n"
     ]
    }
   ],
   "source": [
    "# change the data type of \"Deletions\" in gitdata into integer\n",
    "update = gitData.update_many(\n",
    "    {},\n",
    "    [{\"$set\": {\n",
    "        \"File.Commit_change.Deletions\": {\n",
    "            \"$toInt\":\"$File.Commit_change.Deletions\" } \n",
    "        }\n",
    "    }\n",
    "]\n",
    ")\n",
    "\n",
    "print(\"\"\"\n",
    "    Key: {}\n",
    "    Matched: {}\n",
    "    Modified: {}\n",
    "    ------------\n",
    "    \"\"\".format(\"Deletions\", update.matched_count, update.modified_count), flush=True)"
   ]
  },
  {
   "cell_type": "code",
   "execution_count": 14,
   "id": "e7d809b1",
   "metadata": {},
   "outputs": [
    {
     "name": "stdout",
     "output_type": "stream",
     "text": [
      "\n",
      "    Key: Insertions\n",
      "    Matched: 60996\n",
      "    Modified: 60996\n",
      "    ------------\n",
      "    \n"
     ]
    }
   ],
   "source": [
    "# change the data type of \"Insertions\" in gitdata into integer\n",
    "update = gitData.update_many(\n",
    "    {},\n",
    "    [{\"$set\": {\n",
    "        \"File.Commit_change.Insertions\": {\n",
    "            \"$toInt\":\"$File.Commit_change.Insertions\" } \n",
    "        }\n",
    "    }\n",
    "]\n",
    ")\n",
    "\n",
    "print(\"\"\"\n",
    "    Key: {}\n",
    "    Matched: {}\n",
    "    Modified: {}\n",
    "    ------------\n",
    "    \"\"\".format(\"Insertions\", update.matched_count, update.modified_count), flush=True)"
   ]
  },
  {
   "cell_type": "code",
   "execution_count": 15,
   "id": "22c49fd9",
   "metadata": {},
   "outputs": [
    {
     "name": "stdout",
     "output_type": "stream",
     "text": [
      "\n",
      "    Key: Files\n",
      "    Matched: 60996\n",
      "    Modified: 60996\n",
      "    ------------\n",
      "    \n"
     ]
    }
   ],
   "source": [
    "# change the data type of \"Files\" in gitdata into integer\n",
    "update = gitData.update_many(\n",
    "    {},\n",
    "    [{\"$set\": {\n",
    "        \"File.Commit_change.Files\": {\n",
    "            \"$toInt\":\"$File.Commit_change.Files\" } \n",
    "        }\n",
    "    }\n",
    "]\n",
    ")\n",
    "\n",
    "print(\"\"\"\n",
    "    Key: {}\n",
    "    Matched: {}\n",
    "    Modified: {}\n",
    "    ------------\n",
    "    \"\"\".format(\"Files\", update.matched_count, update.modified_count), flush=True)"
   ]
  },
  {
   "cell_type": "code",
   "execution_count": 16,
   "id": "396de219",
   "metadata": {},
   "outputs": [
    {
     "name": "stdout",
     "output_type": "stream",
     "text": [
      "\n",
      "    Key: Lines\n",
      "    Matched: 60996\n",
      "    Modified: 60996\n",
      "    ------------\n",
      "    \n"
     ]
    }
   ],
   "source": [
    "# change the data type of \"Lines\" in gitdata into integer\n",
    "update = gitData.update_many(\n",
    "    {},\n",
    "    [{\"$set\": {\n",
    "        \"File.Commit_change.Lines\": {\n",
    "            \"$toInt\":\"$File.Commit_change.Lines\" } \n",
    "        }\n",
    "    }\n",
    "]\n",
    ")\n",
    "\n",
    "print(\"\"\"\n",
    "    Key: {}\n",
    "    Matched: {}\n",
    "    Modified: {}\n",
    "    ------------\n",
    "    \"\"\".format(\"Lines\", update.matched_count, update.modified_count), flush=True)"
   ]
  },
  {
   "cell_type": "code",
   "execution_count": 17,
   "id": "f071af1d",
   "metadata": {},
   "outputs": [
    {
     "name": "stdout",
     "output_type": "stream",
     "text": [
      "\n",
      "    Key: Deleted Lines\n",
      "    Matched: 60996\n",
      "    Modified: 60996\n",
      "    ------------\n",
      "    \n"
     ]
    }
   ],
   "source": [
    "# change the data type of \"Deleted Lines\" in gitdata into integer\n",
    "update = gitData.update_many(\n",
    "    {},\n",
    "    [{\"$set\": {\n",
    "        \"Code_change.Diff.Diff_parse.Deleted_lines\": {\n",
    "            \"$toInt\":\"$Code_change.Diff.Diff_parse.Deleted_lines\" } \n",
    "        }\n",
    "    }\n",
    "]\n",
    ")\n",
    "\n",
    "print(\"\"\"\n",
    "    Key: {}\n",
    "    Matched: {}\n",
    "    Modified: {}\n",
    "    ------------\n",
    "    \"\"\".format(\"Deleted Lines\", update.matched_count, update.modified_count), flush=True)"
   ]
  }
 ],
 "metadata": {
  "kernelspec": {
   "display_name": "Python 3.8.13 ('dms')",
   "language": "python",
   "name": "python3"
  },
  "language_info": {
   "codemirror_mode": {
    "name": "ipython",
    "version": 3
   },
   "file_extension": ".py",
   "mimetype": "text/x-python",
   "name": "python",
   "nbconvert_exporter": "python",
   "pygments_lexer": "ipython3",
   "version": "3.8.13"
  },
  "toc": {
   "base_numbering": 1,
   "nav_menu": {},
   "number_sections": true,
   "sideBar": true,
   "skip_h1_title": false,
   "title_cell": "Table of Contents",
   "title_sidebar": "Contents",
   "toc_cell": false,
   "toc_position": {},
   "toc_section_display": true,
   "toc_window_display": false
  },
  "varInspector": {
   "cols": {
    "lenName": 16,
    "lenType": 16,
    "lenVar": 40
   },
   "kernels_config": {
    "python": {
     "delete_cmd_postfix": "",
     "delete_cmd_prefix": "del ",
     "library": "var_list.py",
     "varRefreshCmd": "print(var_dic_list())"
    },
    "r": {
     "delete_cmd_postfix": ") ",
     "delete_cmd_prefix": "rm(",
     "library": "var_list.r",
     "varRefreshCmd": "cat(var_dic_list()) "
    }
   },
   "types_to_exclude": [
    "module",
    "function",
    "builtin_function_or_method",
    "instance",
    "_Feature"
   ],
   "window_display": false
  },
  "vscode": {
   "interpreter": {
    "hash": "d352c8d98334e61f87be349b3e5be22ba599c529985f7a4e23325c418bd2f615"
   }
  }
 },
 "nbformat": 4,
 "nbformat_minor": 5
}
