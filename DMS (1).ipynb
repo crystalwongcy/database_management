{
 "cells": [
  {
   "cell_type": "code",
   "execution_count": 3,
   "id": "c3372b34",
   "metadata": {
    "ExecuteTime": {
     "end_time": "2022-07-20T10:51:10.953185Z",
     "start_time": "2022-07-20T10:51:10.947319Z"
    }
   },
   "outputs": [],
   "source": [
    "# libraries\n",
    "import pandas as pd\n",
    "import numpy as np\n",
    "from pymongo import MongoClient"
   ]
  },
  {
   "cell_type": "code",
   "execution_count": 4,
   "id": "e946e196",
   "metadata": {
    "ExecuteTime": {
     "end_time": "2022-07-20T10:55:41.882137Z",
     "start_time": "2022-07-20T10:51:12.306445Z"
    }
   },
   "outputs": [],
   "source": [
    "#read data in csv format\n",
    "git = pd.read_csv('gitData.csv')\n",
    "issues = pd.read_csv('gitIssues.csv')"
   ]
  },
  {
   "cell_type": "code",
   "execution_count": null,
   "id": "b019ee48",
   "metadata": {
    "ExecuteTime": {
     "end_time": "2022-07-17T13:45:58.955240Z",
     "start_time": "2022-07-17T13:45:58.955198Z"
    }
   },
   "outputs": [],
   "source": [
    "# check the shape of the data\n",
    "print(git.shape)\n",
    "df_issues.shape"
   ]
  },
  {
   "cell_type": "code",
   "execution_count": null,
   "id": "4f9394e8",
   "metadata": {
    "ExecuteTime": {
     "end_time": "2022-07-19T14:07:37.461501Z",
     "start_time": "2022-07-19T14:07:37.461461Z"
    }
   },
   "outputs": [],
   "source": [
    "#data inspection\n",
    "print(git.info())\n",
    "df_issues.info()"
   ]
  },
  {
   "cell_type": "code",
   "execution_count": 5,
   "id": "c5d3d2c8",
   "metadata": {
    "ExecuteTime": {
     "end_time": "2022-07-20T10:55:42.787454Z",
     "start_time": "2022-07-20T10:55:42.224985Z"
    }
   },
   "outputs": [
    {
     "name": "stdout",
     "output_type": "stream",
     "text": [
      "\n",
      "Database\n",
      "==========\n",
      "Database(MongoClient(host=['localhost:27017'], document_class=dict, tz_aware=False, connect=True), 'github')\n",
      "\n",
      "Collection\n",
      "==========\n",
      "Collection(Database(MongoClient(host=['localhost:27017'], document_class=dict, tz_aware=False, connect=True), 'github'), 'gitIssues')\n",
      "\n"
     ]
    }
   ],
   "source": [
    "##### gitissues\n",
    "# let's connect to the localhost\n",
    "client = MongoClient()\n",
    "\n",
    "# let's create a database \n",
    "db = client.github\n",
    "\n",
    "# collection for git issues\n",
    "gitIssues = db.gitIssues\n",
    "\n",
    "# print connection\n",
    "print(\"\"\"\n",
    "Database\n",
    "==========\n",
    "{}\n",
    "\n",
    "Collection\n",
    "==========\n",
    "{}\n",
    "\"\"\".format(db, gitIssues), flush=True\n",
    ")"
   ]
  },
  {
   "cell_type": "code",
   "execution_count": 7,
   "id": "7118cb22",
   "metadata": {
    "ExecuteTime": {
     "end_time": "2022-07-20T10:56:41.415080Z",
     "start_time": "2022-07-20T10:56:41.399011Z"
    }
   },
   "outputs": [],
   "source": [
    "# import the gitIssues csv to mongo compass\n",
    "##\n",
    "# slow loading of data\n",
    "d_gitissue = {}\n",
    "# pass data \n",
    "for i in issues.index:\n",
    "    d_gitissue = {\n",
    "        \"Questions\": {\n",
    "            \"Title\": issues.loc[i,\"title\"],\n",
    "            \"Body\": issues.loc[i,\"body\"]\n",
    "        },\n",
    "        \"User\" : {\n",
    "            \"Username\" : issues.loc[i, \"user\"],\n",
    "            \"User_ID\" :  issues.loc[i,\"user_id\"]\n",
    "        },\n",
    "        \"State\" : {\n",
    "            \"State\" : issues.loc[i, \"state\"],\n",
    "            \"Created_at\" :  issues.loc[i,\"created_at\"],\n",
    "            \"Updated_at\" :  issues.loc[i,\"updated_at\"],\n",
    "            \"Closed_at\" : issues.loc[i, \"closed_at\"]\n",
    "        },\n",
    "        \"Assignees\" : issues.loc[i, \"assignees\"],\n",
    "        \"Closed_by\" : issues.loc[i, \"closed_by\"],\n",
    "        \"Labels\" : issues.loc[i, \"labels\"],\n",
    "        \"Reactions\" : issues.loc[i, \"reactions\"],\n",
    "        \"N_comments\" : issues.loc[i, \"n_comments\"].astype(str),\n",
    "        \"Projects\" : issues.loc[i, \"project\"]\n",
    "    }\n",
    "    break\n",
    "    #gitIssues.insert_one(d)"
   ]
  },
  {
   "cell_type": "code",
   "execution_count": 8,
   "id": "dab392c6",
   "metadata": {
    "ExecuteTime": {
     "end_time": "2022-07-20T10:56:43.941532Z",
     "start_time": "2022-07-20T10:56:43.933130Z"
    }
   },
   "outputs": [
    {
     "name": "stdout",
     "output_type": "stream",
     "text": [
      "\n",
      "Database\n",
      "==========\n",
      "Database(MongoClient(host=['localhost:27017'], document_class=dict, tz_aware=False, connect=True), 'github')\n",
      "\n",
      "Collection\n",
      "==========\n",
      "Collection(Database(MongoClient(host=['localhost:27017'], document_class=dict, tz_aware=False, connect=True), 'github'), 'gitData')\n",
      "\n"
     ]
    }
   ],
   "source": [
    "###### gitdata\n",
    "# new collection for git data\n",
    "gitData = db.gitData\n",
    "\n",
    "# print connection\n",
    "print(\"\"\"\n",
    "Database\n",
    "==========\n",
    "{}\n",
    "\n",
    "Collection\n",
    "==========\n",
    "{}\n",
    "\"\"\".format(db, gitData), flush=True\n",
    ")"
   ]
  },
  {
   "cell_type": "code",
   "execution_count": 9,
   "id": "ec5d52b8",
   "metadata": {
    "ExecuteTime": {
     "end_time": "2022-07-20T10:56:47.771576Z",
     "start_time": "2022-07-20T10:56:47.736932Z"
    }
   },
   "outputs": [],
   "source": [
    "# import the git data to mongo compass\n",
    "#%%time \n",
    "##\n",
    "# slow loading of data\n",
    "d_gitdata = {}\n",
    "#pass data\n",
    "for i in git.index:\n",
    "    d_gitdata = {\n",
    "        \"Commit\": {\n",
    "            \"hash\":git.loc[i, \"hash\"],\n",
    "            \"Msg\":{\n",
    "                \"msg\":git.loc[i, 'msg'],\n",
    "                \"Author\":{\n",
    "                    \"Author_name\": git.loc[i, 'author_name'],\n",
    "                    \"Author_date\": git.loc[i, 'author_date'],\n",
    "                    \"Author_timezone\": git.loc[i, 'author_timezone'].astype(str)\n",
    "                }\n",
    "            },\n",
    "            \"Committer\":{\n",
    "                \"Committer_name\": git.loc[i, 'committer_name'],\n",
    "                \"Committer_date\": git.loc[i, 'committer_date'],\n",
    "                \"Committer_timezone\": git.loc[i, 'committer_timezone'].astype(str)\n",
    "            }\n",
    "        },\n",
    "        \"Branch\":{\n",
    "            \"Branches\": git.loc[i, 'branches'],\n",
    "            \"In_main_branch\": git.loc[i, 'in_main_branch'].astype(str),\n",
    "            \"Merge\": git.loc[i, 'merge'].astype(str),\n",
    "            \"Parents\":git.loc[i, 'parents']\n",
    "        },\n",
    "        \"Project_name\": git.loc[i, 'project_name'],\n",
    "        \"File\":{\n",
    "            \"Filename\": git.loc[i, 'filename'],\n",
    "            \"Change_type\": git.loc[i, 'change_type'],\n",
    "            \"Commit_change\":{\n",
    "                \"Deletions\": git.loc[i, 'deletions'].astype(str),\n",
    "                \"Insertions\": git.loc[i, 'insertions'].astype(str),\n",
    "                \"Files\": git.loc[i, 'files'].astype(str),\n",
    "                \"Lines\":git.loc[i, 'lines'].astype(str)\n",
    "            }\n",
    "        },\n",
    "        \"Code_change\":{\n",
    "            \"Path\":{\n",
    "                \"old_path\":git.loc[i, 'old_path'],\n",
    "                \"new_path\": git.loc[i, 'new_path']\n",
    "            },\n",
    "            \"Diff\":{\n",
    "                \"Diff\": git.loc[i, 'diff'],\n",
    "                \"Diff_parse\":{\n",
    "                    \"Diff_parsed\":git.loc[i, 'diff_parsed'],\n",
    "                    \"Deleted_lines\":git.loc[i, 'deleted_lines'].astype(str)\n",
    "                }\n",
    "            },\n",
    "            \"Source_code\":{\n",
    "                \"Source_code\":git.loc[i, 'source_code'],\n",
    "                \"Source_code_before\":git.loc[i, 'source_code_before']\n",
    "            }\n",
    "        },\n",
    "        \"Nloc\":git.loc[i, 'nloc'],\n",
    "        \"Complexity\":git.loc[i, 'complexity'],\n",
    "        \"Token_count\":git.loc[i, 'token_count']\n",
    "        \n",
    "    }\n",
    "    break \n",
    "    #gitData.insert_one(d_gitdata)"
   ]
  },
  {
   "cell_type": "code",
   "execution_count": 10,
   "id": "8dbb2929",
   "metadata": {
    "ExecuteTime": {
     "end_time": "2022-07-20T10:56:51.910901Z",
     "start_time": "2022-07-20T10:56:51.900790Z"
    }
   },
   "outputs": [
    {
     "name": "stdout",
     "output_type": "stream",
     "text": [
      "\n",
      "Database\n",
      "==========\n",
      "Database(MongoClient(host=['localhost:27017'], document_class=dict, tz_aware=False, connect=True), 'github')\n",
      "\n",
      "Collection\n",
      "==========\n",
      "Collection(Database(MongoClient(host=['localhost:27017'], document_class=dict, tz_aware=False, connect=True), 'github'), 'IssueComment')\n",
      "\n"
     ]
    }
   ],
   "source": [
    "##### issue comment\n",
    "# new collection for issue comment\n",
    "IssueComment = db.IssueComment\n",
    "\n",
    "# print connection\n",
    "print(\"\"\"\n",
    "Database\n",
    "==========\n",
    "{}\n",
    "\n",
    "Collection\n",
    "==========\n",
    "{}\n",
    "\"\"\".format(db, IssueComment), flush=True)\n"
   ]
  },
  {
   "cell_type": "code",
   "execution_count": 11,
   "id": "545e84b6",
   "metadata": {
    "ExecuteTime": {
     "end_time": "2022-07-20T10:56:54.763243Z",
     "start_time": "2022-07-20T10:56:54.754957Z"
    }
   },
   "outputs": [],
   "source": [
    "d_gitcomment = {}\n",
    "# pass data \n",
    "for i in issues.index:\n",
    "    d_gitcomment = {\n",
    "        \"Title\": issues.loc[i,\"title\"],\n",
    "        \"Comment_created_at\": issues.loc[i,\"comment_created_at\"],\n",
    "        \"Labels\" : issues.loc[i, \"labels\"],\n",
    "        \"Reactions\" : issues.loc[i, \"reactions\"],\n",
    "        \"N_comments\" : issues.loc[i, \"n_comments\"].astype(str),\n",
    "        \"Projects\" : issues.loc[i, \"project\"]\n",
    "    }\n",
    "    break\n",
    "    #IssueComment.insert_one(d_gitcomment)"
   ]
  },
  {
   "cell_type": "markdown",
   "id": "7071eb41",
   "metadata": {},
   "source": [
    "# Data cleaning "
   ]
  },
  {
   "cell_type": "markdown",
   "id": "84dcff77",
   "metadata": {},
   "source": [
    "## Remove NA values"
   ]
  },
  {
   "cell_type": "code",
   "execution_count": 57,
   "id": "a034e6a6",
   "metadata": {
    "ExecuteTime": {
     "end_time": "2022-07-20T14:18:47.077815Z",
     "start_time": "2022-07-20T14:18:46.998437Z"
    }
   },
   "outputs": [],
   "source": [
    "# our database\n",
    "db = client.github\n",
    "\n",
    "# collection for git issues\n",
    "gitIssues = db.gitIssues\n",
    "gitIssues_new = db.gitIssues_new\n",
    "gitData = db.gitData\n",
    "gitData_new = db.gitData_new\n",
    "IssueComment = db.IssueComment\n",
    "IssueComment_new = db.IssueComment_new"
   ]
  },
  {
   "cell_type": "code",
   "execution_count": 22,
   "id": "58384af5",
   "metadata": {
    "ExecuteTime": {
     "end_time": "2022-07-19T14:45:58.202044Z",
     "start_time": "2022-07-19T14:45:58.192493Z"
    }
   },
   "outputs": [],
   "source": [
    "##### gitissues\n",
    "# get key names for gitIssues collection\n",
    "key_list_gitissue = []\n",
    "for i in d_gitissue.keys():\n",
    "    try:\n",
    "        for b in d_gitissue.get(str(i)).keys():\n",
    "            key_list_gitissue.append(str(i) + '.' + str(b))\n",
    "    except:\n",
    "        key_list_gitissue.append(i)"
   ]
  },
  {
   "cell_type": "code",
   "execution_count": 25,
   "id": "dc24060e",
   "metadata": {
    "ExecuteTime": {
     "end_time": "2022-07-19T14:47:57.750286Z",
     "start_time": "2022-07-19T14:47:42.155929Z"
    }
   },
   "outputs": [
    {
     "name": "stdout",
     "output_type": "stream",
     "text": [
      "\n",
      "    Key: Questions.Title\n",
      "    Matched: 0\n",
      "    Modified: 0\n",
      "    ------------\n",
      "    \n",
      "\n",
      "    Key: Questions.Body\n",
      "    Matched: 461\n",
      "    Modified: 461\n",
      "    ------------\n",
      "    \n",
      "\n",
      "    Key: User.Username\n",
      "    Matched: 0\n",
      "    Modified: 0\n",
      "    ------------\n",
      "    \n",
      "\n",
      "    Key: User.User_ID\n",
      "    Matched: 0\n",
      "    Modified: 0\n",
      "    ------------\n",
      "    \n",
      "\n",
      "    Key: State.State\n",
      "    Matched: 0\n",
      "    Modified: 0\n",
      "    ------------\n",
      "    \n",
      "\n",
      "    Key: State.Created_at\n",
      "    Matched: 0\n",
      "    Modified: 0\n",
      "    ------------\n",
      "    \n",
      "\n",
      "    Key: State.Updated_at\n",
      "    Matched: 0\n",
      "    Modified: 0\n",
      "    ------------\n",
      "    \n",
      "\n",
      "    Key: State.Closed_at\n",
      "    Matched: 0\n",
      "    Modified: 0\n",
      "    ------------\n",
      "    \n",
      "\n",
      "    Key: Assignees\n",
      "    Matched: 0\n",
      "    Modified: 0\n",
      "    ------------\n",
      "    \n",
      "\n",
      "    Key: Closed_by\n",
      "    Matched: 19088\n",
      "    Modified: 19088\n",
      "    ------------\n",
      "    \n",
      "\n",
      "    Key: Labels\n",
      "    Matched: 0\n",
      "    Modified: 0\n",
      "    ------------\n",
      "    \n",
      "\n",
      "    Key: Reactions\n",
      "    Matched: 0\n",
      "    Modified: 0\n",
      "    ------------\n",
      "    \n",
      "\n",
      "    Key: N_comments\n",
      "    Matched: 0\n",
      "    Modified: 0\n",
      "    ------------\n",
      "    \n",
      "\n",
      "    Key: Projects\n",
      "    Matched: 0\n",
      "    Modified: 0\n",
      "    ------------\n",
      "    \n"
     ]
    }
   ],
   "source": [
    "# unset NaN fields\n",
    "for i in key_list_gitissue:\n",
    "    update = gitIssues.update_many({str(i):np.nan},{\"$unset\": {str(i):\"\"}})\n",
    "    print(\"\"\"\n",
    "    Key: {}\n",
    "    Matched: {}\n",
    "    Modified: {}\n",
    "    ------------\n",
    "    \"\"\".format(i, update.matched_count, update.modified_count), flush=True)"
   ]
  },
  {
   "cell_type": "code",
   "execution_count": 27,
   "id": "5b988d35",
   "metadata": {
    "ExecuteTime": {
     "end_time": "2022-07-19T14:49:49.151312Z",
     "start_time": "2022-07-19T14:49:49.142468Z"
    }
   },
   "outputs": [],
   "source": [
    "##### gitData\n",
    "# get key names for gitIssues collection\n",
    "key_list_gitData = []\n",
    "for i in d_gitdata.keys():\n",
    "    try:\n",
    "        for b in d_gitdata.get(str(i)).keys():\n",
    "            key_list_gitData.append(str(i) + '.' + str(b))\n",
    "    except:\n",
    "        key_list_gitData.append(i)"
   ]
  },
  {
   "cell_type": "code",
   "execution_count": 28,
   "id": "a5bdcb49",
   "metadata": {
    "ExecuteTime": {
     "end_time": "2022-07-19T15:17:28.963707Z",
     "start_time": "2022-07-19T14:50:14.533692Z"
    }
   },
   "outputs": [
    {
     "name": "stdout",
     "output_type": "stream",
     "text": [
      "\n",
      "    Key: Commit.hash\n",
      "    Matched: 0\n",
      "    Modified: 0\n",
      "    ------------\n",
      "    \n",
      "\n",
      "    Key: Commit.Msg\n",
      "    Matched: 0\n",
      "    Modified: 0\n",
      "    ------------\n",
      "    \n",
      "\n",
      "    Key: Commit.Committer\n",
      "    Matched: 0\n",
      "    Modified: 0\n",
      "    ------------\n",
      "    \n",
      "\n",
      "    Key: Branch.Branches\n",
      "    Matched: 0\n",
      "    Modified: 0\n",
      "    ------------\n",
      "    \n",
      "\n",
      "    Key: Branch.In_main_branch\n",
      "    Matched: 0\n",
      "    Modified: 0\n",
      "    ------------\n",
      "    \n",
      "\n",
      "    Key: Branch.Merge\n",
      "    Matched: 0\n",
      "    Modified: 0\n",
      "    ------------\n",
      "    \n",
      "\n",
      "    Key: Branch.Parents\n",
      "    Matched: 0\n",
      "    Modified: 0\n",
      "    ------------\n",
      "    \n",
      "\n",
      "    Key: Project_name\n",
      "    Matched: 0\n",
      "    Modified: 0\n",
      "    ------------\n",
      "    \n",
      "\n",
      "    Key: File.Filename\n",
      "    Matched: 0\n",
      "    Modified: 0\n",
      "    ------------\n",
      "    \n",
      "\n",
      "    Key: File.Change_type\n",
      "    Matched: 0\n",
      "    Modified: 0\n",
      "    ------------\n",
      "    \n",
      "\n",
      "    Key: File.Commit_change\n",
      "    Matched: 0\n",
      "    Modified: 0\n",
      "    ------------\n",
      "    \n",
      "\n",
      "    Key: Code_change.Path\n",
      "    Matched: 0\n",
      "    Modified: 0\n",
      "    ------------\n",
      "    \n",
      "\n",
      "    Key: Code_change.Diff\n",
      "    Matched: 0\n",
      "    Modified: 0\n",
      "    ------------\n",
      "    \n",
      "\n",
      "    Key: Code_change.Source_code\n",
      "    Matched: 0\n",
      "    Modified: 0\n",
      "    ------------\n",
      "    \n",
      "\n",
      "    Key: Nloc\n",
      "    Matched: 32412\n",
      "    Modified: 32412\n",
      "    ------------\n",
      "    \n",
      "\n",
      "    Key: Complexity\n",
      "    Matched: 32412\n",
      "    Modified: 32412\n",
      "    ------------\n",
      "    \n",
      "\n",
      "    Key: Token_count\n",
      "    Matched: 32412\n",
      "    Modified: 32412\n",
      "    ------------\n",
      "    \n"
     ]
    }
   ],
   "source": [
    "# unset NaN fields\n",
    "for i in key_list_gitData:\n",
    "    update = gitData.update_many({str(i):np.nan},{\"$unset\": {str(i):\"\"}})\n",
    "    print(\"\"\"\n",
    "    Key: {}\n",
    "    Matched: {}\n",
    "    Modified: {}\n",
    "    ------------\n",
    "    \"\"\".format(i, update.matched_count, update.modified_count), flush=True)"
   ]
  },
  {
   "cell_type": "code",
   "execution_count": 31,
   "id": "dbc0d41f",
   "metadata": {
    "ExecuteTime": {
     "end_time": "2022-07-19T15:20:37.035620Z",
     "start_time": "2022-07-19T15:20:37.018878Z"
    }
   },
   "outputs": [],
   "source": [
    "#### IssueComment\n",
    "# get key names for gitIssues collection\n",
    "key_list_issuecomment = []\n",
    "for i in d_gitcomment.keys():\n",
    "    try:\n",
    "        for b in d_gitcomment.get(str(i)).keys():\n",
    "            key_list_issuecomment.append(str(i) + '.' + str(b))\n",
    "    except:\n",
    "        key_list_issuecomment.append(i)"
   ]
  },
  {
   "cell_type": "code",
   "execution_count": 32,
   "id": "a7b80c27",
   "metadata": {
    "ExecuteTime": {
     "end_time": "2022-07-19T15:20:38.517713Z",
     "start_time": "2022-07-19T15:20:37.888407Z"
    }
   },
   "outputs": [
    {
     "name": "stdout",
     "output_type": "stream",
     "text": [
      "\n",
      "    Key: Title\n",
      "    Matched: 0\n",
      "    Modified: 0\n",
      "    ------------\n",
      "    \n",
      "\n",
      "    Key: Comment_created_at\n",
      "    Matched: 0\n",
      "    Modified: 0\n",
      "    ------------\n",
      "    \n",
      "\n",
      "    Key: Labels\n",
      "    Matched: 0\n",
      "    Modified: 0\n",
      "    ------------\n",
      "    \n",
      "\n",
      "    Key: Reactions\n",
      "    Matched: 0\n",
      "    Modified: 0\n",
      "    ------------\n",
      "    \n",
      "\n",
      "    Key: N_comments\n",
      "    Matched: 0\n",
      "    Modified: 0\n",
      "    ------------\n",
      "    \n",
      "\n",
      "    Key: Projects\n",
      "    Matched: 0\n",
      "    Modified: 0\n",
      "    ------------\n",
      "    \n"
     ]
    }
   ],
   "source": [
    "# unset NaN fields\n",
    "for i in key_list_issuecomment:\n",
    "    update = IssueComment.update_many({str(i):np.nan},{\"$unset\": {str(i):\"\"}})\n",
    "    print(\"\"\"\n",
    "    Key: {}\n",
    "    Matched: {}\n",
    "    Modified: {}\n",
    "    ------------\n",
    "    \"\"\".format(i, update.matched_count, update.modified_count), flush=True)"
   ]
  },
  {
   "cell_type": "markdown",
   "id": "5130346c",
   "metadata": {},
   "source": [
    "## change datatype "
   ]
  },
  {
   "cell_type": "code",
   "execution_count": null,
   "id": "03f3eb8b",
   "metadata": {},
   "outputs": [],
   "source": [
    "# change the User_ID into integer"
   ]
  },
  {
   "cell_type": "markdown",
   "id": "f50f4af2",
   "metadata": {},
   "source": [
    "### change into integer"
   ]
  },
  {
   "cell_type": "code",
   "execution_count": 58,
   "id": "dcf125ea",
   "metadata": {
    "ExecuteTime": {
     "end_time": "2022-07-20T14:19:02.151330Z",
     "start_time": "2022-07-20T14:18:54.756540Z"
    }
   },
   "outputs": [
    {
     "name": "stdout",
     "output_type": "stream",
     "text": [
      "\n",
      "    Key: N_comments\n",
      "    Matched: 32329\n",
      "    Modified: 32329\n",
      "    ------------\n",
      "    \n"
     ]
    }
   ],
   "source": [
    "# change the data type of \"N_comments\" in gitIssues into integer\n",
    "update = gitIssues_new.update_many(\n",
    "    {},\n",
    "    [{\"$set\": {\n",
    "        \"N_comments\": {\n",
    "            \"$toInt\":\"$N_comments\" } \n",
    "        }\n",
    "    }\n",
    "]\n",
    ")\n",
    "\n",
    "print(\"\"\"\n",
    "    Key: {}\n",
    "    Matched: {}\n",
    "    Modified: {}\n",
    "    ------------\n",
    "    \"\"\".format(\"N_comments\", update.matched_count, update.modified_count), flush=True)\n"
   ]
  },
  {
   "cell_type": "code",
   "execution_count": 61,
   "id": "c08607ed",
   "metadata": {
    "ExecuteTime": {
     "end_time": "2022-07-20T14:24:49.302723Z",
     "start_time": "2022-07-20T14:20:54.484740Z"
    }
   },
   "outputs": [
    {
     "name": "stdout",
     "output_type": "stream",
     "text": [
      "\n",
      "    Key: Author_timezone\n",
      "    Matched: 60996\n",
      "    Modified: 60996\n",
      "    ------------\n",
      "    \n"
     ]
    }
   ],
   "source": [
    "# change the data type of \"Author_timezone\" in gitData into integer\n",
    "update = gitData_new.update_many(\n",
    "    {},\n",
    "    [{\"$set\": {\n",
    "        \"Commit.Msg.Author.Author_timezone\": {\n",
    "            \"$toInt\":\"$Commit.Msg.Author.Author_timezone\" } \n",
    "        }\n",
    "    }\n",
    "]\n",
    ")\n",
    "\n",
    "print(\"\"\"\n",
    "    Key: {}\n",
    "    Matched: {}\n",
    "    Modified: {}\n",
    "    ------------\n",
    "    \"\"\".format(\"Author_timezone\", update.matched_count, update.modified_count), flush=True)\n"
   ]
  },
  {
   "cell_type": "code",
   "execution_count": 62,
   "id": "dcf5a8bc",
   "metadata": {
    "ExecuteTime": {
     "end_time": "2022-07-20T14:24:58.925425Z",
     "start_time": "2022-07-20T14:24:55.399720Z"
    }
   },
   "outputs": [
    {
     "name": "stdout",
     "output_type": "stream",
     "text": [
      "\n",
      "    Key: N_comments\n",
      "    Matched: 32329\n",
      "    Modified: 32329\n",
      "    ------------\n",
      "    \n"
     ]
    }
   ],
   "source": [
    "# change the data type of \"N_comments\" in IssueComment into integer\n",
    "update = IssueComment_new.update_many(\n",
    "    {},\n",
    "    [{\"$set\": {\n",
    "        \"N_comments\": {\n",
    "            \"$toInt\":\"$N_comments\" } \n",
    "        }\n",
    "    }\n",
    "]\n",
    ")\n",
    "\n",
    "print(\"\"\"\n",
    "    Key: {}\n",
    "    Matched: {}\n",
    "    Modified: {}\n",
    "    ------------\n",
    "    \"\"\".format(\"N_comments\", update.matched_count, update.modified_count), flush=True)"
   ]
  },
  {
   "cell_type": "code",
   "execution_count": 63,
   "id": "b7e28fe2",
   "metadata": {
    "ExecuteTime": {
     "end_time": "2022-07-20T14:30:04.353021Z",
     "start_time": "2022-07-20T14:25:09.090380Z"
    }
   },
   "outputs": [
    {
     "name": "stdout",
     "output_type": "stream",
     "text": [
      "\n",
      "    Key: Deletions\n",
      "    Matched: 60996\n",
      "    Modified: 60996\n",
      "    ------------\n",
      "    \n"
     ]
    }
   ],
   "source": [
    "# change the data type of \"Deletions\" in gitdata into integer\n",
    "update = gitData_new.update_many(\n",
    "    {},\n",
    "    [{\"$set\": {\n",
    "        \"File.Commit_change.Deletions\": {\n",
    "            \"$toInt\":\"$File.Commit_change.Deletions\" } \n",
    "        }\n",
    "    }\n",
    "]\n",
    ")\n",
    "\n",
    "print(\"\"\"\n",
    "    Key: {}\n",
    "    Matched: {}\n",
    "    Modified: {}\n",
    "    ------------\n",
    "    \"\"\".format(\"Deletions\", update.matched_count, update.modified_count), flush=True)"
   ]
  },
  {
   "cell_type": "code",
   "execution_count": 69,
   "id": "e6a23f74",
   "metadata": {
    "ExecuteTime": {
     "end_time": "2022-07-20T15:07:52.519429Z",
     "start_time": "2022-07-20T15:02:35.843268Z"
    }
   },
   "outputs": [
    {
     "name": "stdout",
     "output_type": "stream",
     "text": [
      "\n",
      "    Key: Insertions\n",
      "    Matched: 60996\n",
      "    Modified: 60996\n",
      "    ------------\n",
      "    \n"
     ]
    }
   ],
   "source": [
    "# change the data type of \"Insertions\" in gitdata into integer\n",
    "update = gitData_new.update_many(\n",
    "    {},\n",
    "    [{\"$set\": {\n",
    "        \"File.Commit_change.Insertions\": {\n",
    "            \"$toInt\":\"$File.Commit_change.Insertions\" } \n",
    "        }\n",
    "    }\n",
    "]\n",
    ")\n",
    "\n",
    "print(\"\"\"\n",
    "    Key: {}\n",
    "    Matched: {}\n",
    "    Modified: {}\n",
    "    ------------\n",
    "    \"\"\".format(\"Insertions\", update.matched_count, update.modified_count), flush=True)"
   ]
  },
  {
   "cell_type": "code",
   "execution_count": null,
   "id": "da45a517",
   "metadata": {
    "ExecuteTime": {
     "end_time": "2022-07-20T15:07:52.822977Z",
     "start_time": "2022-07-20T15:07:52.822939Z"
    }
   },
   "outputs": [],
   "source": [
    "# change the data type of \"Files\" in gitdata into integer\n",
    "update = gitData_new.update_many(\n",
    "    {},\n",
    "    [{\"$set\": {\n",
    "        \"File.Commit_change.Files\": {\n",
    "            \"$toInt\":\"$File.Commit_change.Files\" } \n",
    "        }\n",
    "    }\n",
    "]\n",
    ")\n",
    "\n",
    "print(\"\"\"\n",
    "    Key: {}\n",
    "    Matched: {}\n",
    "    Modified: {}\n",
    "    ------------\n",
    "    \"\"\".format(\"Files\", update.matched_count, update.modified_count), flush=True)"
   ]
  },
  {
   "cell_type": "code",
   "execution_count": null,
   "id": "387d4383",
   "metadata": {
    "ExecuteTime": {
     "end_time": "2022-07-20T14:30:05.110392Z",
     "start_time": "2022-07-20T14:30:05.110346Z"
    }
   },
   "outputs": [],
   "source": [
    "# change the data type of \"Lines\" in gitdata into integer\n",
    "update = gitData_new.update_many(\n",
    "    {},\n",
    "    [{\"$set\": {\n",
    "        \"File.Commit_change.Lines\": {\n",
    "            \"$toInt\":\"$File.Commit_change.Lines\" } \n",
    "        }\n",
    "    }\n",
    "]\n",
    ")\n",
    "\n",
    "print(\"\"\"\n",
    "    Key: {}\n",
    "    Matched: {}\n",
    "    Modified: {}\n",
    "    ------------\n",
    "    \"\"\".format(\"Lines\", update.matched_count, update.modified_count), flush=True)"
   ]
  },
  {
   "cell_type": "code",
   "execution_count": null,
   "id": "b1460e36",
   "metadata": {
    "ExecuteTime": {
     "end_time": "2022-07-20T14:30:05.144318Z",
     "start_time": "2022-07-20T14:30:05.144287Z"
    }
   },
   "outputs": [],
   "source": [
    "# change the data type of \"Deleted Lines\" in gitdata into integer\n",
    "update = gitData_new.update_many(\n",
    "    {},\n",
    "    [{\"$set\": {\n",
    "        \"Code_change.Diff.Diff_parse.Deleted_lines\": {\n",
    "            \"$toInt\":\"$Code_change.Diff.Diff_parse.Deleted_lines\" } \n",
    "        }\n",
    "    }\n",
    "]\n",
    ")\n",
    "\n",
    "print(\"\"\"\n",
    "    Key: {}\n",
    "    Matched: {}\n",
    "    Modified: {}\n",
    "    ------------\n",
    "    \"\"\".format(\"Deleted Lines\", update.matched_count, update.modified_count), flush=True)"
   ]
  },
  {
   "cell_type": "markdown",
   "id": "56d611d0",
   "metadata": {},
   "source": [
    "### change datatype to datetime"
   ]
  },
  {
   "cell_type": "code",
   "execution_count": 66,
   "id": "d216fdf9",
   "metadata": {
    "ExecuteTime": {
     "end_time": "2022-07-20T14:43:00.124750Z",
     "start_time": "2022-07-20T14:42:44.505211Z"
    }
   },
   "outputs": [
    {
     "name": "stdout",
     "output_type": "stream",
     "text": [
      "\n",
      "    Key: Created_at\n",
      "    Matched: 32329\n",
      "    Modified: 32329\n",
      "    ------------\n",
      "    \n"
     ]
    }
   ],
   "source": [
    "# change the data type of 'Created_at', 'Updated_at', and 'closed_at' in gitissues\n",
    "update = gitIssues_new.update_many(\n",
    "    {},\n",
    "    [{\"$set\": {\n",
    "        \"State.Created_at\": {\n",
    "            \"$toDate\":\"$State.Created_at\" } \n",
    "        }\n",
    "    }\n",
    "]\n",
    ")\n",
    "\n",
    "print(\"\"\"\n",
    "    Key: {}\n",
    "    Matched: {}\n",
    "    Modified: {}\n",
    "    ------------\n",
    "    \"\"\".format(\"Created_at\", update.matched_count, update.modified_count), flush=True)"
   ]
  },
  {
   "cell_type": "code",
   "execution_count": null,
   "id": "37a2b4a9",
   "metadata": {
    "ExecuteTime": {
     "end_time": "2022-07-20T14:43:00.373675Z",
     "start_time": "2022-07-20T14:43:00.373623Z"
    }
   },
   "outputs": [],
   "source": [
    "# change the data type of 'Created_at', 'Updated_at', and 'closed_at' in gitissues\n",
    "update = gitIssues_new.update_many(\n",
    "    {},\n",
    "    [{\"$set\": {\n",
    "        \"State.Closed_at\": {\n",
    "            \"$toDate\":\"$State.Closed_at\" } \n",
    "        }\n",
    "    }\n",
    "]\n",
    ")\n",
    "\n",
    "print(\"\"\"\n",
    "    Key: {}\n",
    "    Matched: {}\n",
    "    Modified: {}\n",
    "    ------------\n",
    "    \"\"\".format(\"Closed_at\", update.matched_count, update.modified_count), flush=True)"
   ]
  },
  {
   "cell_type": "code",
   "execution_count": null,
   "id": "de2f4951",
   "metadata": {
    "ExecuteTime": {
     "end_time": "2022-07-20T14:43:00.470421Z",
     "start_time": "2022-07-20T14:43:00.470371Z"
    }
   },
   "outputs": [],
   "source": [
    "# change the data type of 'Created_at', 'Updated_at', and 'closed_at' in gitissues\n",
    "update = gitIssues_new.update_many(\n",
    "    {},\n",
    "    [{\"$set\": {\n",
    "        \"State.Updated_at\": {\n",
    "            \"$toDate\":\"$State.Updated_at\" } \n",
    "        }\n",
    "    }\n",
    "]\n",
    ")\n",
    "\n",
    "print(\"\"\"\n",
    "    Key: {}\n",
    "    Matched: {}\n",
    "    Modified: {}\n",
    "    ------------\n",
    "    \"\"\".format(\"Updated_at\", update.matched_count, update.modified_count), flush=True)"
   ]
  },
  {
   "cell_type": "code",
   "execution_count": null,
   "id": "35569b5f",
   "metadata": {
    "ExecuteTime": {
     "end_time": "2022-07-20T14:43:00.513162Z",
     "start_time": "2022-07-20T14:43:00.513107Z"
    }
   },
   "outputs": [],
   "source": [
    "# change the data type of 'Created_at', 'Updated_at', and 'closed_at' in gitissues\n",
    "update = gitData_new.update_many(\n",
    "    {},\n",
    "    [{\"$set\": {\n",
    "        \"Commit.Msg.Author.Author_date\": {\n",
    "            \"$toDate\":\"$Commit.Msg.Author.Author_date } \n",
    "        }\n",
    "    }\n",
    "]\n",
    ")\n",
    "\n",
    "print(\"\"\"\n",
    "    Key: {}\n",
    "    Matched: {}\n",
    "    Modified: {}\n",
    "    ------------\n",
    "    \"\"\".format(\"Author_date\", update.matched_count, update.modified_count), flush=True)"
   ]
  },
  {
   "cell_type": "code",
   "execution_count": 67,
   "id": "8bb6d4ad",
   "metadata": {
    "ExecuteTime": {
     "end_time": "2022-07-20T14:53:22.099651Z",
     "start_time": "2022-07-20T14:47:54.826858Z"
    }
   },
   "outputs": [
    {
     "name": "stdout",
     "output_type": "stream",
     "text": [
      "\n",
      "    Key: In_main_branch\n",
      "    Matched: 60996\n",
      "    Modified: 60996\n",
      "    ------------\n",
      "    \n"
     ]
    }
   ],
   "source": [
    "##### don't run this \n",
    "# convert 'True' or False into boolean\n",
    "update = gitData_new.update_many(\n",
    "    {},\n",
    "    [{\"$set\": {\n",
    "        \"Branch.In_main_branch\": {\n",
    "            \"$toBool\":'$Branch.In_main_branch'} \n",
    "        }\n",
    "    }\n",
    "]\n",
    ")\n",
    "\n",
    "print(\"\"\"\n",
    "    Key: {}\n",
    "    Matched: {}\n",
    "    Modified: {}\n",
    "    ------------\n",
    "    \"\"\".format(\"In_main_branch\", update.matched_count, update.modified_count), flush=True)"
   ]
  },
  {
   "cell_type": "code",
   "execution_count": 68,
   "id": "15c0da8d",
   "metadata": {
    "ExecuteTime": {
     "end_time": "2022-07-20T15:00:21.149428Z",
     "start_time": "2022-07-20T14:54:46.804098Z"
    }
   },
   "outputs": [
    {
     "name": "stdout",
     "output_type": "stream",
     "text": [
      "\n",
      "    Key: Merge\n",
      "    Matched: 60996\n",
      "    Modified: 60996\n",
      "    ------------\n",
      "    \n"
     ]
    }
   ],
   "source": [
    "###### don't run this\n",
    "# convert 'True' or False into boolean\n",
    "update = gitData_new.update_many(\n",
    "    {},\n",
    "    [{\"$set\": {\n",
    "        \"Branch.Merge\": {\n",
    "            \"$toBool\":'$Branch.Merge'} \n",
    "        }\n",
    "    }\n",
    "]\n",
    ")\n",
    "\n",
    "print(\"\"\"\n",
    "    Key: {}\n",
    "    Matched: {}\n",
    "    Modified: {}\n",
    "    ------------\n",
    "    \"\"\".format(\"Merge\", update.matched_count, update.modified_count), flush=True)"
   ]
  },
  {
   "cell_type": "markdown",
   "id": "7f063a98",
   "metadata": {},
   "source": [
    "# descriptive analytics"
   ]
  },
  {
   "cell_type": "code",
   "execution_count": 75,
   "id": "f86c0c2f",
   "metadata": {
    "ExecuteTime": {
     "end_time": "2022-07-20T15:21:32.861132Z",
     "start_time": "2022-07-20T15:21:32.843306Z"
    }
   },
   "outputs": [],
   "source": [
    "# check for number of comments in pytorch\n",
    "db.IssueComment.find(\n",
    "    {\n",
    "        \"Projects\": {\n",
    "            $in: [\"pytorch\"]\n",
    "        }\n",
    "    }.itcount()\n",
    "); "
   ]
  },
  {
   "cell_type": "markdown",
   "id": "a7b51205",
   "metadata": {},
   "source": [
    "# Pyspark"
   ]
  },
  {
   "cell_type": "code",
   "execution_count": null,
   "id": "5a2121d3",
   "metadata": {},
   "outputs": [],
   "source": []
  }
 ],
 "metadata": {
  "kernelspec": {
   "display_name": "Python 3 (ipykernel)",
   "language": "python",
   "name": "python3"
  },
  "language_info": {
   "codemirror_mode": {
    "name": "ipython",
    "version": 3
   },
   "file_extension": ".py",
   "mimetype": "text/x-python",
   "name": "python",
   "nbconvert_exporter": "python",
   "pygments_lexer": "ipython3",
   "version": "3.8.12"
  },
  "toc": {
   "base_numbering": 1,
   "nav_menu": {},
   "number_sections": true,
   "sideBar": true,
   "skip_h1_title": false,
   "title_cell": "Table of Contents",
   "title_sidebar": "Contents",
   "toc_cell": false,
   "toc_position": {},
   "toc_section_display": true,
   "toc_window_display": false
  },
  "varInspector": {
   "cols": {
    "lenName": 16,
    "lenType": 16,
    "lenVar": 40
   },
   "kernels_config": {
    "python": {
     "delete_cmd_postfix": "",
     "delete_cmd_prefix": "del ",
     "library": "var_list.py",
     "varRefreshCmd": "print(var_dic_list())"
    },
    "r": {
     "delete_cmd_postfix": ") ",
     "delete_cmd_prefix": "rm(",
     "library": "var_list.r",
     "varRefreshCmd": "cat(var_dic_list()) "
    }
   },
   "types_to_exclude": [
    "module",
    "function",
    "builtin_function_or_method",
    "instance",
    "_Feature"
   ],
   "window_display": false
  }
 },
 "nbformat": 4,
 "nbformat_minor": 5
}
